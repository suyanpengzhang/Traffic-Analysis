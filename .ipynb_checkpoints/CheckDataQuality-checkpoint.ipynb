{
 "cells": [
  {
   "cell_type": "code",
   "execution_count": 1,
   "id": "6e419ca8",
   "metadata": {},
   "outputs": [
    {
     "name": "stdout",
     "output_type": "stream",
     "text": [
      "Intel MKL WARNING: Support of Intel(R) Streaming SIMD Extensions 4.2 (Intel(R) SSE4.2) enabled only processors has been deprecated. Intel oneAPI Math Kernel Library 2025.0 will require Intel(R) Advanced Vector Extensions (Intel(R) AVX) instructions.\n",
      "Intel MKL WARNING: Support of Intel(R) Streaming SIMD Extensions 4.2 (Intel(R) SSE4.2) enabled only processors has been deprecated. Intel oneAPI Math Kernel Library 2025.0 will require Intel(R) Advanced Vector Extensions (Intel(R) AVX) instructions.\n"
     ]
    }
   ],
   "source": [
    "import pickle\n",
    "import pandas as pd\n",
    "import warnings\n",
    "import numpy as np\n",
    "from scipy.integrate import odeint\n",
    "import matplotlib.pyplot as plt\n",
    "from scipy.optimize import minimize\n",
    "from scipy import optimize\n",
    "import pickle\n",
    "import statsmodels.api as sm\n",
    "from scipy import stats"
   ]
  },
  {
   "cell_type": "raw",
   "id": "771752cd",
   "metadata": {},
   "source": [
    "months = ['01', '03', '04', '05', '06', '07', '08', '09', '10', '11', '12']\n",
    "#months = [ '04', '05', '06', '10', '11', '12']\n",
    "for month in months:\n",
    "    current2020={}\n",
    "    current2021={}\n",
    "    current2022={}\n",
    "    print(month)\n",
    "    # Load the data for the current month\n",
    "    file_name = f'preprocessing data/unfiltered_volume_2020_{month}.pkl'\n",
    "    with open(file_name, 'rb') as file:\n",
    "        flow2020 = pickle.load(file)\n",
    "    file_name = f'preprocessing data/unfiltered_volume_2021_{month}.pkl'\n",
    "    with open(file_name, 'rb') as file:\n",
    "        flow2021 = pickle.load(file)\n",
    "    file_name = f'preprocessing data/unfiltered_volume_2022_{month}.pkl'\n",
    "    with open(file_name, 'rb') as file:\n",
    "        flow2022 = pickle.load(file)\n",
    "    for k in flow2020.keys():\n",
    "        #if k[0] in ID_zip:\n",
    "            if k[0] in current2020:\n",
    "                current2020[k[0]] = current2020[k[0]]+[flow2020[k][0]]\n",
    "            else:\n",
    "                current2020[k[0]] = [flow2020[k][0]]\n",
    "    for k in flow2021.keys():\n",
    "        #if k[0] in ID_zip:\n",
    "            if k[0] in current2021:\n",
    "                current2021[k[0]] = current2021[k[0]]+[flow2021[k][0]]\n",
    "            else:\n",
    "                current2021[k[0]] = [flow2021[k][0]]\n",
    "    for k in flow2022.keys():\n",
    "        #if k[0] in ID_zip:\n",
    "            if k[0] in current2022:\n",
    "                current2022[k[0]] = current2022[k[0]]+[flow2022[k][0]]\n",
    "            else:\n",
    "                current2022[k[0]] = [flow2022[k][0]]\n",
    "    # Specify the file path for the current month\n",
    "    file_path = f'monthly_data/unfiltered_sensor_monthly_2020_{month}.pkl'\n",
    "    \n",
    "    # Save the dictionary for the current month as a pickle file\n",
    "    with open(file_path, 'wb') as file:\n",
    "        pickle.dump(current2020, file)\n",
    "    # Specify the file path for the current month\n",
    "    file_path = f'monthly_data/unfiltered_sensor_monthly_2021_{month}.pkl'\n",
    "    \n",
    "    # Save the dictionary for the current month as a pickle file\n",
    "    with open(file_path, 'wb') as file:\n",
    "        pickle.dump(current2021, file)\n",
    "    # Specify the file path for the current month\n",
    "    file_path = f'monthly_data/unfiltered_sensor_monthly_2022_{month}.pkl'\n",
    "    \n",
    "    # Save the dictionary for the current month as a pickle file\n",
    "    with open(file_path, 'wb') as file:\n",
    "        pickle.dump(current2022, file)"
   ]
  },
  {
   "cell_type": "code",
   "execution_count": 20,
   "id": "40424820",
   "metadata": {},
   "outputs": [
    {
     "ename": "ValueError",
     "evalue": "setting an array element with a sequence.",
     "output_type": "error",
     "traceback": [
      "\u001b[0;31m---------------------------------------------------------------------------\u001b[0m",
      "\u001b[0;31mTypeError\u001b[0m                                 Traceback (most recent call last)",
      "\u001b[0;31mTypeError\u001b[0m: float() argument must be a string or a number, not 'list'",
      "\nThe above exception was the direct cause of the following exception:\n",
      "\u001b[0;31mValueError\u001b[0m                                Traceback (most recent call last)",
      "Cell \u001b[0;32mIn[20], line 27\u001b[0m\n\u001b[1;32m     25\u001b[0m x\u001b[38;5;241m=\u001b[39m x\u001b[38;5;241m.\u001b[39mintersection(\u001b[38;5;28mset\u001b[39m(\u001b[38;5;28mlist\u001b[39m(flow2022\u001b[38;5;241m.\u001b[39mkeys())))\n\u001b[1;32m     26\u001b[0m num_sensors[count,\u001b[38;5;241m2\u001b[39m] \u001b[38;5;241m=\u001b[39m \u001b[38;5;28mlen\u001b[39m(flow2022)\n\u001b[0;32m---> 27\u001b[0m flows[count,\u001b[38;5;241m2\u001b[39m] \u001b[38;5;241m=\u001b[39m [np\u001b[38;5;241m.\u001b[39mmean(flow2022[i]) \u001b[38;5;28;01mfor\u001b[39;00m i \u001b[38;5;129;01min\u001b[39;00m flow2022]\n\u001b[1;32m     28\u001b[0m count \u001b[38;5;241m+\u001b[39m\u001b[38;5;241m=\u001b[39m \u001b[38;5;241m1\u001b[39m\n",
      "\u001b[0;31mValueError\u001b[0m: setting an array element with a sequence."
     ]
    }
   ],
   "source": [
    "#Number of sensors\n",
    "months = ['01', '02', '03', '04', '05', '06', '07', '08', '09', '10', '11', '12']\n",
    "num_sensors = np.zeros((12,3))\n",
    "flows = np.zeros((12,3))\n",
    "\n",
    "count =0\n",
    "x = set(list(flow2020.keys()))\n",
    "for month in months:\n",
    "    file_name = f'monthly_data/unfiltered_sensor_monthly_2020_{month}.pkl'\n",
    "    with open(file_name, 'rb') as file:\n",
    "        flow2020 = pickle.load(file)\n",
    "    x= x.intersection(set(list(flow2020.keys())))\n",
    "    num_sensors[count,0] = len(flow2020)\n",
    "    flows[count,0] = np.mean([np.mean(flow2020[i]) for i in flow2020])\n",
    "    if month != '02':\n",
    "        file_name = f'monthly_data/unfiltered_sensor_monthly_2021_{month}.pkl'\n",
    "        with open(file_name, 'rb') as file:\n",
    "            flow2021 = pickle.load(file)\n",
    "        num_sensors[count,1] = len(flow2021)\n",
    "        flows[count,1] = np.mean([np.mean(flow2021[i]) for i in flow2021])\n",
    "        x= x.intersection(set(list(flow2021.keys())))\n",
    "    file_name = f'monthly_data/unfiltered_sensor_monthly_2022_{month}.pkl'\n",
    "    with open(file_name, 'rb') as file:\n",
    "        flow2022 = pickle.load(file)\n",
    "    x= x.intersection(set(list(flow2022.keys())))\n",
    "    num_sensors[count,2] = len(flow2022)\n",
    "    flows[count,2] = np.mean([np.mean(flow2022[i]) for i in flow2022])\n",
    "    count += 1"
   ]
  },
  {
   "cell_type": "code",
   "execution_count": 17,
   "id": "77b39031",
   "metadata": {},
   "outputs": [
    {
     "data": {
      "text/plain": [
       "array([[18524., 12136., 12200.],\n",
       "       [15230.,     0., 12111.],\n",
       "       [18527., 12141., 12111.],\n",
       "       [18523., 12145., 12094.],\n",
       "       [15186., 12155., 12093.],\n",
       "       [18373., 12164., 12091.],\n",
       "       [15164., 12166., 12094.],\n",
       "       [15161., 12170., 12099.],\n",
       "       [15175., 12181., 12083.],\n",
       "       [18607., 12193., 12097.],\n",
       "       [18622., 12201., 12107.],\n",
       "       [18630., 12200., 12113.]])"
      ]
     },
     "execution_count": 17,
     "metadata": {},
     "output_type": "execute_result"
    }
   ],
   "source": [
    "num_sensors"
   ]
  },
  {
   "cell_type": "code",
   "execution_count": 18,
   "id": "a69c3fcc",
   "metadata": {},
   "outputs": [
    {
     "data": {
      "text/plain": [
       "11593"
      ]
     },
     "execution_count": 18,
     "metadata": {},
     "output_type": "execute_result"
    }
   ],
   "source": [
    "len(x)"
   ]
  },
  {
   "cell_type": "code",
   "execution_count": 19,
   "id": "7ebaaf3c",
   "metadata": {},
   "outputs": [
    {
     "data": {
      "text/plain": [
       "array([[ 81.59762086, 112.84864985,   1.34303242],\n",
       "       [ 95.80181789,   0.        ,   1.34324168],\n",
       "       [ 92.26884349,   1.34990367,   1.34340425],\n",
       "       [ 86.64742579,   1.35002058,  77.59475602],\n",
       "       [ 60.00375985,   1.34907402, 130.55466892],\n",
       "       [ 44.81139446,   1.34791153, 142.02694429],\n",
       "       [  1.11816679,   1.34763354, 135.63945041],\n",
       "       [  1.14672351,   1.34683637, 122.78158625],\n",
       "       [  1.18760954,   1.34696772, 119.48873743],\n",
       "       [ 83.09164152,   1.34492406, 164.69724316],\n",
       "       [ 80.7672471 ,   1.34401908, 164.51944121],\n",
       "       [ 74.18339626,   1.34312722, 143.29691524]])"
      ]
     },
     "execution_count": 19,
     "metadata": {},
     "output_type": "execute_result"
    }
   ],
   "source": [
    "flows"
   ]
  },
  {
   "cell_type": "code",
   "execution_count": null,
   "id": "550fa994",
   "metadata": {},
   "outputs": [],
   "source": []
  }
 ],
 "metadata": {
  "kernelspec": {
   "display_name": "Python 3 (ipykernel)",
   "language": "python",
   "name": "python3"
  },
  "language_info": {
   "codemirror_mode": {
    "name": "ipython",
    "version": 3
   },
   "file_extension": ".py",
   "mimetype": "text/x-python",
   "name": "python",
   "nbconvert_exporter": "python",
   "pygments_lexer": "ipython3",
   "version": "3.9.13"
  },
  "varInspector": {
   "cols": {
    "lenName": 16,
    "lenType": 16,
    "lenVar": 40
   },
   "kernels_config": {
    "python": {
     "delete_cmd_postfix": "",
     "delete_cmd_prefix": "del ",
     "library": "var_list.py",
     "varRefreshCmd": "print(var_dic_list())"
    },
    "r": {
     "delete_cmd_postfix": ") ",
     "delete_cmd_prefix": "rm(",
     "library": "var_list.r",
     "varRefreshCmd": "cat(var_dic_list()) "
    }
   },
   "types_to_exclude": [
    "module",
    "function",
    "builtin_function_or_method",
    "instance",
    "_Feature"
   ],
   "window_display": false
  }
 },
 "nbformat": 4,
 "nbformat_minor": 5
}

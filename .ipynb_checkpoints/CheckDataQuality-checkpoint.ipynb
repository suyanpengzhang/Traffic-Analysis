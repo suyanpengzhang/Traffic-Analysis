{
 "cells": [
  {
   "cell_type": "code",
   "execution_count": null,
   "id": "f07fe918",
   "metadata": {},
   "outputs": [],
   "source": [
    "import pickle\n",
    "import pandas as pd\n",
    "import warnings\n",
    "import numpy as np\n",
    "from scipy.integrate import odeint\n",
    "import matplotlib.pyplot as plt\n",
    "from scipy.optimize import minimize\n",
    "from scipy import optimize\n",
    "import pickle\n",
    "import statsmodels.api as sm\n",
    "from scipy import stats"
   ]
  },
  {
   "cell_type": "raw",
   "id": "6658fda8",
   "metadata": {},
   "source": [
    "months = ['01', '03', '04', '05', '06', '07', '08', '09', '10', '11', '12']\n",
    "#months = [ '04', '05', '06', '10', '11', '12']\n",
    "for month in months:\n",
    "    current2020={}\n",
    "    current2021={}\n",
    "    current2022={}\n",
    "    print(month)\n",
    "    # Load the data for the current month\n",
    "    file_name = f'preprocessing data/unfiltered_volume_2020_{month}.pkl'\n",
    "    with open(file_name, 'rb') as file:\n",
    "        flow2020 = pickle.load(file)\n",
    "    file_name = f'preprocessing data/unfiltered_volume_2021_{month}.pkl'\n",
    "    with open(file_name, 'rb') as file:\n",
    "        flow2021 = pickle.load(file)\n",
    "    file_name = f'preprocessing data/unfiltered_volume_2022_{month}.pkl'\n",
    "    with open(file_name, 'rb') as file:\n",
    "        flow2022 = pickle.load(file)\n",
    "    for k in flow2020.keys():\n",
    "        #if k[0] in ID_zip:\n",
    "            if k[0] in current2020:\n",
    "                current2020[k[0]] = current2020[k[0]]+[flow2020[k][0]]\n",
    "            else:\n",
    "                current2020[k[0]] = [flow2020[k][0]]\n",
    "    for k in flow2021.keys():\n",
    "        #if k[0] in ID_zip:\n",
    "            if k[0] in current2021:\n",
    "                current2021[k[0]] = current2021[k[0]]+[flow2021[k][0]]\n",
    "            else:\n",
    "                current2021[k[0]] = [flow2021[k][0]]\n",
    "    for k in flow2022.keys():\n",
    "        #if k[0] in ID_zip:\n",
    "            if k[0] in current2022:\n",
    "                current2022[k[0]] = current2022[k[0]]+[flow2022[k][0]]\n",
    "            else:\n",
    "                current2022[k[0]] = [flow2022[k][0]]\n",
    "    # Specify the file path for the current month\n",
    "    file_path = f'monthly_data/unfiltered_sensor_monthly_2020_{month}.pkl'\n",
    "    \n",
    "    # Save the dictionary for the current month as a pickle file\n",
    "    with open(file_path, 'wb') as file:\n",
    "        pickle.dump(current2020, file)\n",
    "    # Specify the file path for the current month\n",
    "    file_path = f'monthly_data/unfiltered_sensor_monthly_2021_{month}.pkl'\n",
    "    \n",
    "    # Save the dictionary for the current month as a pickle file\n",
    "    with open(file_path, 'wb') as file:\n",
    "        pickle.dump(current2021, file)\n",
    "    # Specify the file path for the current month\n",
    "    file_path = f'monthly_data/unfiltered_sensor_monthly_2022_{month}.pkl'\n",
    "    \n",
    "    # Save the dictionary for the current month as a pickle file\n",
    "    with open(file_path, 'wb') as file:\n",
    "        pickle.dump(current2022, file)"
   ]
  },
  {
   "cell_type": "code",
   "execution_count": null,
   "id": "34c5ec04",
   "metadata": {},
   "outputs": [],
   "source": [
    "#Number of sensors\n",
    "months = ['01', '02', '03', '04', '05', '06', '07', '08', '09', '10', '11', '12']\n",
    "num_sensors = np.zeros((12,3))\n",
    "flows = np.zeros((12,3))\n",
    "\n",
    "count =0\n",
    "x = set(list(flow2020.keys()))\n",
    "for month in months:\n",
    "    file_name = f'monthly_data/unfiltered_sensor_monthly_2020_{month}.pkl'\n",
    "    with open(file_name, 'rb') as file:\n",
    "        flow2020 = pickle.load(file)\n",
    "    x= x.intersection(set(list(flow2020.keys())))\n",
    "    num_sensors[count,0] = len(flow2020)\n",
    "    flows[count,0] = np.mean([np.mean(flow2020[i]) for i in flow2020])\n",
    "    if month != '02':\n",
    "        file_name = f'monthly_data/unfiltered_sensor_monthly_2021_{month}.pkl'\n",
    "        with open(file_name, 'rb') as file:\n",
    "            flow2021 = pickle.load(file)\n",
    "        num_sensors[count,1] = len(flow2021)\n",
    "        flows[count,1] = np.mean([np.mean(flow2021[i]) for i in flow2021])\n",
    "        x= x.intersection(set(list(flow2021.keys())))\n",
    "    file_name = f'monthly_data/unfiltered_sensor_monthly_2022_{month}.pkl'\n",
    "    with open(file_name, 'rb') as file:\n",
    "        flow2022 = pickle.load(file)\n",
    "    x= x.intersection(set(list(flow2022.keys())))\n",
    "    num_sensors[count,2] = len(flow2022)\n",
    "    flows[count,2] = np.mean([np.mean(flow2022[i]) for i in flow2022])\n",
    "    count += 1"
   ]
  },
  {
   "cell_type": "code",
   "execution_count": null,
   "id": "5f5d74d2",
   "metadata": {},
   "outputs": [],
   "source": [
    "num_sensors"
   ]
  },
  {
   "cell_type": "code",
   "execution_count": null,
   "id": "c29b620d",
   "metadata": {},
   "outputs": [],
   "source": [
    "len(x)"
   ]
  },
  {
   "cell_type": "code",
   "execution_count": null,
   "id": "54578a99",
   "metadata": {},
   "outputs": [],
   "source": [
    "flows"
   ]
  },
  {
   "cell_type": "code",
   "execution_count": null,
   "id": "883515c0",
   "metadata": {},
   "outputs": [],
   "source": [
    "import matplotlib.pyplot as plt\n",
    "import numpy as np\n",
    "\n",
    "labels = ['2020', '2021', '2022']\n",
    "data = [np.array([np.mean(flow2020[i]) for i in flow2020]),[np.mean(flow2021[i]) for i in flow2021],[np.mean(flow2022[i]) for i in flow2022]]\n",
    "\n",
    "fig,ax1 = plt.subplots(nrows=1, ncols=1, figsize=(9, 4))\n",
    "\n",
    "# rectangular box plot\n",
    "bplot1 = ax1.boxplot(data,\n",
    "                     vert=True,  # vertical box alignment\n",
    "                     patch_artist=True,  # fill with color\n",
    "                     labels=labels)  # will be used to label x-ticks\n",
    "ax1.set_title('Rectangular box plot')\n",
    "\n",
    "\n",
    "# fill with colors\n",
    "colors = ['pink', 'lightblue', 'lightgreen']\n",
    "for patch, color in zip(bplot1['boxes'], colors):\n",
    "    patch.set_facecolor(color)\n",
    "\n",
    "# adding horizontal grid lines\n",
    "ax1.yaxis.grid(True)\n",
    "ax1.set_xlabel('Three separate samples')\n",
    "ax1.set_ylabel('Observed values')\n",
    "\n",
    "plt.show()"
   ]
  },
  {
   "cell_type": "code",
   "execution_count": null,
   "id": "f2b949d1",
   "metadata": {},
   "outputs": [],
   "source": [
    "#Number of sensors\n",
    "months = ['01', '02', '03', '04', '05', '06', '07', '08', '09', '10', '11', '12']\n",
    "num_sensors = np.zeros((12,3))\n",
    "flows = np.zeros((12,3))\n",
    "\n",
    "count =0\n",
    "x = set(list(flow2020.keys()))\n",
    "for month in months:\n",
    "    file_name = f'monthly_data/unfiltered_sensor_monthly_2020_{month}.pkl'\n",
    "    with open(file_name, 'rb') as file:\n",
    "        flow2020 = pickle.load(file)\n",
    "    x= x.intersection(set(list(flow2020.keys())))\n",
    "    num_sensors[count,0] = len(flow2020)\n",
    "    flows[count,0] = np.mean([np.mean(flow2020[i]) for i in flow2020])\n",
    "    if month != '02':\n",
    "        file_name = f'monthly_data/unfiltered_sensor_monthly_2021_{month}.pkl'\n",
    "        with open(file_name, 'rb') as file:\n",
    "            flow2021 = pickle.load(file)\n",
    "        num_sensors[count,1] = len(flow2021)\n",
    "        flows[count,1] = np.mean([np.mean(flow2021[i]) for i in flow2021])\n",
    "        x= x.intersection(set(list(flow2021.keys())))\n",
    "    file_name = f'monthly_data/unfiltered_sensor_monthly_2022_{month}.pkl'\n",
    "    with open(file_name, 'rb') as file:\n",
    "        flow2022 = pickle.load(file)\n",
    "    x= x.intersection(set(list(flow2022.keys())))\n",
    "    num_sensors[count,2] = len(flow2022)\n",
    "    flows[count,2] = np.mean([np.mean(flow2022[i]) for i in flow2022])\n",
    "    count += 1\n",
    "    labels = ['2020', '2021', '2022']\n",
    "    data = [np.array([np.mean(flow2020[i]) for i in flow2020]),[np.mean(flow2021[i]) for i in flow2021],[np.mean(flow2022[i]) for i in flow2022]]\n",
    "\n",
    "    fig,ax1 = plt.subplots(nrows=1, ncols=1, figsize=(4, 2))\n",
    "\n",
    "    # rectangular box plot\n",
    "    bplot1 = ax1.boxplot(data,\n",
    "                         vert=True,  # vertical box alignment\n",
    "                         patch_artist=True,  # fill with color\n",
    "                         labels=labels)  # will be used to label x-ticks\n",
    "    ax1.set_title('Month: '+str(month))\n",
    "\n",
    "\n",
    "    # fill with colors\n",
    "    colors = ['pink', 'lightblue', 'lightgreen']\n",
    "    for patch, color in zip(bplot1['boxes'], colors):\n",
    "        patch.set_facecolor(color)\n",
    "\n",
    "    # adding horizontal grid lines\n",
    "    ax1.yaxis.grid(True)\n",
    "    ax1.set_xlabel('Three separate samples')\n",
    "    ax1.set_ylabel('Observed values')\n",
    "\n",
    "    plt.show()"
   ]
  },
  {
   "cell_type": "code",
   "execution_count": null,
   "id": "ca1fb978",
   "metadata": {},
   "outputs": [],
   "source": [
    "[np.mean(flow2020[i]) for i in flow2020]"
   ]
  },
  {
   "cell_type": "code",
   "execution_count": null,
   "id": "f47a809d",
   "metadata": {},
   "outputs": [],
   "source": []
  }
 ],
 "metadata": {
  "kernelspec": {
   "display_name": "Python 3 (ipykernel)",
   "language": "python",
   "name": "python3"
  },
  "language_info": {
   "codemirror_mode": {
    "name": "ipython",
    "version": 3
   },
   "file_extension": ".py",
   "mimetype": "text/x-python",
   "name": "python",
   "nbconvert_exporter": "python",
   "pygments_lexer": "ipython3",
   "version": "3.9.13"
  },
  "varInspector": {
   "cols": {
    "lenName": 16,
    "lenType": 16,
    "lenVar": 40
   },
   "kernels_config": {
    "python": {
     "delete_cmd_postfix": "",
     "delete_cmd_prefix": "del ",
     "library": "var_list.py",
     "varRefreshCmd": "print(var_dic_list())"
    },
    "r": {
     "delete_cmd_postfix": ") ",
     "delete_cmd_prefix": "rm(",
     "library": "var_list.r",
     "varRefreshCmd": "cat(var_dic_list()) "
    }
   },
   "types_to_exclude": [
    "module",
    "function",
    "builtin_function_or_method",
    "instance",
    "_Feature"
   ],
   "window_display": false
  }
 },
 "nbformat": 4,
 "nbformat_minor": 5
}

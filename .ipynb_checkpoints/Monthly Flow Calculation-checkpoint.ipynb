{
 "cells": [
  {
   "cell_type": "code",
   "execution_count": 25,
   "id": "93cdebb2",
   "metadata": {},
   "outputs": [],
   "source": [
    "import pickle\n",
    "import pandas as pd"
   ]
  },
  {
   "cell_type": "code",
   "execution_count": 26,
   "id": "0c563b88",
   "metadata": {},
   "outputs": [],
   "source": [
    "# Load the dictionary from the pickle file\n",
    "with open('sensor_zip.pkl', 'rb') as file:\n",
    "    sensors = pickle.load(file)"
   ]
  },
  {
   "cell_type": "code",
   "execution_count": 27,
   "id": "651e9fba",
   "metadata": {},
   "outputs": [],
   "source": [
    "with open('2022_01.pkl', 'rb') as file:\n",
    "    flow_01 = pickle.load(file)"
   ]
  },
  {
   "cell_type": "code",
   "execution_count": 28,
   "id": "ddfff4ed",
   "metadata": {},
   "outputs": [],
   "source": [
    "x = flow_01[[1,'zip']]\n",
    "x.to_pickle('2022_01_small.pkl')"
   ]
  },
  {
   "cell_type": "code",
   "execution_count": 12,
   "id": "88f49b22",
   "metadata": {},
   "outputs": [],
   "source": [
    "d = {'zip': [0], \n",
    "     'flow1': [100], 'flow1wo0': [3],'freq1': [30], 'freq1wo0': [15],\n",
    "     'flow2': [100], 'flow2wo0': [3],'freq2': [30], 'freq2wo0': [15],\n",
    "     'flow3': [100], 'flow3wo0': [3],'freq3': [30], 'freq3wo0': [15],\n",
    "     'flow4': [100], 'flow4wo0': [3],'freq4': [30], 'freq4wo0': [15],\n",
    "     'flow5': [100], 'flow5wo0': [3],'freq5': [30], 'freq5wo0': [15],\n",
    "     'flow6': [100], 'flow6wo0': [3],'freq6': [30], 'freq6wo0': [15],\n",
    "     'flow7': [100], 'flow7wo0': [3],'freq7': [30], 'freq7wo0': [15],\n",
    "     'flow8': [100], 'flow8wo0': [3],'freq8': [30], 'freq8wo0': [15],\n",
    "     'flow9': [100], 'flow9wo0': [3],'freq9': [30], 'freq9wo0': [15],\n",
    "     'flow10': [100], 'flow10wo0': [3],'freq10': [30], 'freq10wo0': [15],\n",
    "     'flow11': [100], 'flow11wo0': [3],'freq11': [30], 'freq11wo0': [15],\n",
    "     'flow12': [100], 'flow12wo0': [3],'freq12': [30], 'freq12wo0': [15]\n",
    "    }"
   ]
  },
  {
   "cell_type": "code",
   "execution_count": 13,
   "id": "0cdea261",
   "metadata": {},
   "outputs": [],
   "source": [
    "data=pd.DataFrame(data=d)"
   ]
  },
  {
   "cell_type": "code",
   "execution_count": 17,
   "id": "c8b4d1ff",
   "metadata": {},
   "outputs": [],
   "source": [
    "d2 = {'zip': 1, \n",
    "     'flow1': 100, 'flow1wo0': 3,'freq1': 30, 'freq1wo0': 15,\n",
    "     'flow2': 100, 'flow2wo0': 3,'freq2': 30, 'freq2wo0': 15,\n",
    "     'flow3': 100, 'flow3wo0': 3,'freq3': 30, 'freq3wo0': 15,\n",
    "     'flow4': 100, 'flow4wo0': 3,'freq4': 30, 'freq4wo0': 15,\n",
    "     'flow5': 100, 'flow5wo0': 3,'freq5': 30, 'freq5wo0': 15,\n",
    "     'flow6': 100, 'flow6wo0': 3,'freq6': 30, 'freq6wo0': 15,\n",
    "     'flow7': 100, 'flow7wo0': 3,'freq7': 30, 'freq7wo0': 15,\n",
    "     'flow8': 100, 'flow8wo0': 3,'freq8': 30, 'freq8wo0': 15,\n",
    "     'flow9': 100, 'flow9wo0': 3,'freq9': 30, 'freq9wo0': 15,\n",
    "     'flow10': 100, 'flow10wo0': 3,'freq10': 30, 'freq10wo0': 15,\n",
    "     'flow11': 100, 'flow11wo0': 3,'freq11': 30, 'freq11wo0': 15,\n",
    "     'flow12': 100, 'flow12wo0': 3,'freq12': 30, 'freq12wo0': 15\n",
    "    }"
   ]
  },
  {
   "cell_type": "code",
   "execution_count": 18,
   "id": "db905ebb",
   "metadata": {},
   "outputs": [
    {
     "name": "stderr",
     "output_type": "stream",
     "text": [
      "/var/folders/b3/kkdtnh4d4gjgrk45d_yrf4100000gn/T/ipykernel_73020/617948771.py:1: FutureWarning: The frame.append method is deprecated and will be removed from pandas in a future version. Use pandas.concat instead.\n",
      "  data.append(d2,ignore_index=True)\n"
     ]
    },
    {
     "data": {
      "text/html": [
       "<div>\n",
       "<style scoped>\n",
       "    .dataframe tbody tr th:only-of-type {\n",
       "        vertical-align: middle;\n",
       "    }\n",
       "\n",
       "    .dataframe tbody tr th {\n",
       "        vertical-align: top;\n",
       "    }\n",
       "\n",
       "    .dataframe thead th {\n",
       "        text-align: right;\n",
       "    }\n",
       "</style>\n",
       "<table border=\"1\" class=\"dataframe\">\n",
       "  <thead>\n",
       "    <tr style=\"text-align: right;\">\n",
       "      <th></th>\n",
       "      <th>zip</th>\n",
       "      <th>flow1</th>\n",
       "      <th>flow1wo0</th>\n",
       "      <th>freq1</th>\n",
       "      <th>freq1wo0</th>\n",
       "      <th>flow2</th>\n",
       "      <th>flow2wo0</th>\n",
       "      <th>freq2</th>\n",
       "      <th>freq2wo0</th>\n",
       "      <th>flow3</th>\n",
       "      <th>...</th>\n",
       "      <th>freq10</th>\n",
       "      <th>freq10wo0</th>\n",
       "      <th>flow11</th>\n",
       "      <th>flow11wo0</th>\n",
       "      <th>freq11</th>\n",
       "      <th>freq11wo0</th>\n",
       "      <th>flow12</th>\n",
       "      <th>flow12wo0</th>\n",
       "      <th>freq12</th>\n",
       "      <th>freq12wo0</th>\n",
       "    </tr>\n",
       "  </thead>\n",
       "  <tbody>\n",
       "    <tr>\n",
       "      <th>0</th>\n",
       "      <td>0</td>\n",
       "      <td>100</td>\n",
       "      <td>3</td>\n",
       "      <td>30</td>\n",
       "      <td>15</td>\n",
       "      <td>100</td>\n",
       "      <td>3</td>\n",
       "      <td>30</td>\n",
       "      <td>15</td>\n",
       "      <td>100</td>\n",
       "      <td>...</td>\n",
       "      <td>30</td>\n",
       "      <td>15</td>\n",
       "      <td>100</td>\n",
       "      <td>3</td>\n",
       "      <td>30</td>\n",
       "      <td>15</td>\n",
       "      <td>100</td>\n",
       "      <td>3</td>\n",
       "      <td>30</td>\n",
       "      <td>15</td>\n",
       "    </tr>\n",
       "    <tr>\n",
       "      <th>1</th>\n",
       "      <td>1</td>\n",
       "      <td>[100]</td>\n",
       "      <td>[3]</td>\n",
       "      <td>[30]</td>\n",
       "      <td>[15]</td>\n",
       "      <td>[100]</td>\n",
       "      <td>[3]</td>\n",
       "      <td>[30]</td>\n",
       "      <td>[15]</td>\n",
       "      <td>[100]</td>\n",
       "      <td>...</td>\n",
       "      <td>[30]</td>\n",
       "      <td>[15]</td>\n",
       "      <td>[100]</td>\n",
       "      <td>[3]</td>\n",
       "      <td>[30]</td>\n",
       "      <td>[15]</td>\n",
       "      <td>[100]</td>\n",
       "      <td>[3]</td>\n",
       "      <td>[30]</td>\n",
       "      <td>[15]</td>\n",
       "    </tr>\n",
       "  </tbody>\n",
       "</table>\n",
       "<p>2 rows × 49 columns</p>\n",
       "</div>"
      ],
      "text/plain": [
       "   zip  flow1 flow1wo0 freq1 freq1wo0  flow2 flow2wo0 freq2 freq2wo0  flow3  \\\n",
       "0    0    100        3    30       15    100        3    30       15    100   \n",
       "1    1  [100]      [3]  [30]     [15]  [100]      [3]  [30]     [15]  [100]   \n",
       "\n",
       "   ... freq10 freq10wo0 flow11 flow11wo0 freq11 freq11wo0 flow12 flow12wo0  \\\n",
       "0  ...     30        15    100         3     30        15    100         3   \n",
       "1  ...   [30]      [15]  [100]       [3]   [30]      [15]  [100]       [3]   \n",
       "\n",
       "  freq12 freq12wo0  \n",
       "0     30        15  \n",
       "1   [30]      [15]  \n",
       "\n",
       "[2 rows x 49 columns]"
      ]
     },
     "execution_count": 18,
     "metadata": {},
     "output_type": "execute_result"
    }
   ],
   "source": [
    "data.append(d2,ignore_index=True)"
   ]
  },
  {
   "cell_type": "code",
   "execution_count": null,
   "id": "b9aa165a",
   "metadata": {},
   "outputs": [],
   "source": []
  }
 ],
 "metadata": {
  "kernelspec": {
   "display_name": "Python 3 (ipykernel)",
   "language": "python",
   "name": "python3"
  },
  "language_info": {
   "codemirror_mode": {
    "name": "ipython",
    "version": 3
   },
   "file_extension": ".py",
   "mimetype": "text/x-python",
   "name": "python",
   "nbconvert_exporter": "python",
   "pygments_lexer": "ipython3",
   "version": "3.9.13"
  },
  "varInspector": {
   "cols": {
    "lenName": 16,
    "lenType": 16,
    "lenVar": 40
   },
   "kernels_config": {
    "python": {
     "delete_cmd_postfix": "",
     "delete_cmd_prefix": "del ",
     "library": "var_list.py",
     "varRefreshCmd": "print(var_dic_list())"
    },
    "r": {
     "delete_cmd_postfix": ") ",
     "delete_cmd_prefix": "rm(",
     "library": "var_list.r",
     "varRefreshCmd": "cat(var_dic_list()) "
    }
   },
   "types_to_exclude": [
    "module",
    "function",
    "builtin_function_or_method",
    "instance",
    "_Feature"
   ],
   "window_display": false
  }
 },
 "nbformat": 4,
 "nbformat_minor": 5
}

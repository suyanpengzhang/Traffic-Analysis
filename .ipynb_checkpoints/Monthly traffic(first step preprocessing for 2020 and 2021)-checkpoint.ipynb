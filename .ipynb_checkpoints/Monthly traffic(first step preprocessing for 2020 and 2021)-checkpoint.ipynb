{
 "cells": [
  {
   "cell_type": "code",
   "execution_count": 1,
   "id": "16cf9aeb",
   "metadata": {},
   "outputs": [
    {
     "name": "stdout",
     "output_type": "stream",
     "text": [
      "Intel MKL WARNING: Support of Intel(R) Streaming SIMD Extensions 4.2 (Intel(R) SSE4.2) enabled only processors has been deprecated. Intel oneAPI Math Kernel Library 2025.0 will require Intel(R) Advanced Vector Extensions (Intel(R) AVX) instructions.\n",
      "Intel MKL WARNING: Support of Intel(R) Streaming SIMD Extensions 4.2 (Intel(R) SSE4.2) enabled only processors has been deprecated. Intel oneAPI Math Kernel Library 2025.0 will require Intel(R) Advanced Vector Extensions (Intel(R) AVX) instructions.\n"
     ]
    }
   ],
   "source": [
    "import pickle\n",
    "import pandas as pd\n",
    "import warnings\n"
   ]
  },
  {
   "cell_type": "code",
   "execution_count": null,
   "id": "531c6074",
   "metadata": {},
   "outputs": [
    {
     "name": "stdout",
     "output_type": "stream",
     "text": [
      "05\n",
      "06\n"
     ]
    },
    {
     "name": "stderr",
     "output_type": "stream",
     "text": [
      "/var/folders/b3/kkdtnh4d4gjgrk45d_yrf4100000gn/T/ipykernel_18762/3320903212.py:27: DtypeWarning: Columns (0) have mixed types. Specify dtype option on import or set low_memory=False.\n",
      "  flow = pd.read_csv(file_path, header=None,usecols=selected_columns)\n"
     ]
    },
    {
     "name": "stdout",
     "output_type": "stream",
     "text": [
      "07\n"
     ]
    }
   ],
   "source": [
    "selected_columns = [0, 2, 4]\n",
    "\n",
    "# Initialize dictionaries for each month\n",
    "volume_2020_01 = {}\n",
    "volume_2020_02 = {}\n",
    "volume_2020_03 ={}\n",
    "volume_2020_04 ={}\n",
    "volume_2020_05 ={}\n",
    "volume_2020_06 ={}\n",
    "volume_2020_07 ={}\n",
    "volume_2020_08 ={}\n",
    "volume_2020_09 ={}\n",
    "volume_2020_10 ={}\n",
    "volume_2020_11 ={}\n",
    "volume_2020_12 ={}\n",
    "\n",
    "# Loop through the months (assuming you have a list of file names)\n",
    "months = ['01', '02','03', '04', '05', '06', '07', '08', '09', '10', '11', '12']\n",
    "months = ['05', '06', '07', '08', '09', '10', '11', '12']\n",
    "folders = ['01', '02', '03', '04']\n",
    "for month in months:\n",
    "    print(month)\n",
    "    current = {}\n",
    "    for folder in folders:\n",
    "    # Load the data for the current month\n",
    "        file_path = f'2020_data/2020_{month}_{folder}.csv'\n",
    "        flow = pd.read_csv(file_path, header=None,usecols=selected_columns)\n",
    "        # Group and process the data (similar to your existing code)\n",
    "        grouped = flow.groupby([0, 4])\n",
    "        results = grouped.var()[2]\n",
    "        results_mean = grouped.mean()[2]\n",
    "        # Update the corresponding dictionary based on the month\n",
    "        for i in results.index:\n",
    "            #if results[i] > 0:\n",
    "                if i[0] in current:\n",
    "                    current[i].append(results_mean[i])\n",
    "                else:\n",
    "                    current[i] = [results_mean[i]]  \n",
    "    with open(f'preprocessing data/unfiltered_volume_2020_{month}.pkl', 'wb') as file:\n",
    "        pickle.dump(current, file)\n"
   ]
  },
  {
   "cell_type": "raw",
   "id": "10c7644a",
   "metadata": {},
   "source": [
    "# Save the dictionary for the current month as a pickle file\n",
    "with open('volume_2020_01.pkl', 'wb') as file:\n",
    "    pickle.dump(volume_2020_01, file)\n",
    "with open('volume_2020_02.pkl', 'wb') as file:\n",
    "    pickle.dump(volume_2020_02, file)\n",
    "with open('volume_2020_03.pkl', 'wb') as file:\n",
    "    pickle.dump(volume_2020_03, file)\n",
    "with open('volume_2020_04.pkl', 'wb') as file:\n",
    "    pickle.dump(volume_2020_04, file)"
   ]
  },
  {
   "cell_type": "code",
   "execution_count": null,
   "id": "103d7bda",
   "metadata": {},
   "outputs": [],
   "source": [
    "current\n"
   ]
  },
  {
   "cell_type": "code",
   "execution_count": null,
   "id": "c53f010d",
   "metadata": {},
   "outputs": [],
   "source": []
  }
 ],
 "metadata": {
  "kernelspec": {
   "display_name": "Python 3 (ipykernel)",
   "language": "python",
   "name": "python3"
  },
  "language_info": {
   "codemirror_mode": {
    "name": "ipython",
    "version": 3
   },
   "file_extension": ".py",
   "mimetype": "text/x-python",
   "name": "python",
   "nbconvert_exporter": "python",
   "pygments_lexer": "ipython3",
   "version": "3.9.13"
  },
  "varInspector": {
   "cols": {
    "lenName": 16,
    "lenType": 16,
    "lenVar": 40
   },
   "kernels_config": {
    "python": {
     "delete_cmd_postfix": "",
     "delete_cmd_prefix": "del ",
     "library": "var_list.py",
     "varRefreshCmd": "print(var_dic_list())"
    },
    "r": {
     "delete_cmd_postfix": ") ",
     "delete_cmd_prefix": "rm(",
     "library": "var_list.r",
     "varRefreshCmd": "cat(var_dic_list()) "
    }
   },
   "types_to_exclude": [
    "module",
    "function",
    "builtin_function_or_method",
    "instance",
    "_Feature"
   ],
   "window_display": false
  }
 },
 "nbformat": 4,
 "nbformat_minor": 5
}

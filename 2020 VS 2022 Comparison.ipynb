{
 "cells": [
  {
   "cell_type": "code",
   "execution_count": 1,
   "id": "139c7656",
   "metadata": {},
   "outputs": [
    {
     "name": "stdout",
     "output_type": "stream",
     "text": [
      "Intel MKL WARNING: Support of Intel(R) Streaming SIMD Extensions 4.2 (Intel(R) SSE4.2) enabled only processors has been deprecated. Intel oneAPI Math Kernel Library 2025.0 will require Intel(R) Advanced Vector Extensions (Intel(R) AVX) instructions.\n",
      "Intel MKL WARNING: Support of Intel(R) Streaming SIMD Extensions 4.2 (Intel(R) SSE4.2) enabled only processors has been deprecated. Intel oneAPI Math Kernel Library 2025.0 will require Intel(R) Advanced Vector Extensions (Intel(R) AVX) instructions.\n"
     ]
    }
   ],
   "source": [
    "import pickle\n",
    "import pandas as pd\n",
    "import warnings\n"
   ]
  },
  {
   "cell_type": "code",
   "execution_count": 2,
   "id": "eaf68ecf",
   "metadata": {},
   "outputs": [],
   "source": [
    "with open(\"Arterial_ID_zip.p\", \"rb\") as file:\n",
    "    ID_zip = pickle.load(file)\n",
    "with open(\"sensor_zip.pkl\", \"rb\") as file:\n",
    "    ID_zip_2022 = pickle.load(file)"
   ]
  },
  {
   "cell_type": "code",
   "execution_count": 3,
   "id": "86a7f8b0",
   "metadata": {},
   "outputs": [
    {
     "name": "stdout",
     "output_type": "stream",
     "text": [
      "01\n",
      "02\n",
      "03\n",
      "04\n",
      "05\n",
      "06\n",
      "07\n",
      "08\n",
      "09\n",
      "10\n",
      "11\n",
      "12\n"
     ]
    }
   ],
   "source": [
    "months = ['01', '02', '03', '04', '05', '06', '07', '08', '09', '10', '11', '12']\n",
    "for month in months:\n",
    "    current2020={}\n",
    "    current2022={}\n",
    "    print(month)\n",
    "    # Load the data for the current month\n",
    "    file_name = f'volume_2020_{month}.pkl'\n",
    "    with open(file_name, 'rb') as file:\n",
    "        flow2020 = pickle.load(file)\n",
    "    file_name = f'volume_2022_{month}.pkl'\n",
    "    with open(file_name, 'rb') as file:\n",
    "        flow2022 = pickle.load(file)\n",
    "    for k in flow2020.keys():\n",
    "        if k[0] in ID_zip.ID.values:\n",
    "            zip_ = ID_zip[ID_zip.ID == k[0]].Zipcode.values[0]\n",
    "            if zip_ in current2020:\n",
    "                current2020[zip_] = current2020[zip_]+[flow2020[k][0]]\n",
    "            else:\n",
    "                current2020[zip_] = [flow2020[k][0]]\n",
    "    for k in flow2022.keys():\n",
    "        if k[0] in ID_zip_2022:\n",
    "            zip_ = ID_zip_2022[k[0]]\n",
    "            #print(f2022_01)\n",
    "            if zip_ in current2022:\n",
    "                current2022[zip_] = current2022[zip_]+[flow2022[k][0]]\n",
    "            else:\n",
    "                current2022[zip_] = [flow2022[k][0]]\n",
    "    # Specify the file path for the current month\n",
    "    file_path = f'monthly_data/monthly_2020_{month}.pkl'\n",
    "    \n",
    "    # Save the dictionary for the current month as a pickle file\n",
    "    with open(file_path, 'wb') as file:\n",
    "        pickle.dump(current2020, file)\n",
    "    # Specify the file path for the current month\n",
    "    file_path = f'monthly_data/monthly_2022_{month}.pkl'\n",
    "    \n",
    "    # Save the dictionary for the current month as a pickle file\n",
    "    with open(file_path, 'wb') as file:\n",
    "        pickle.dump(current2022, file)"
   ]
  },
  {
   "cell_type": "code",
   "execution_count": null,
   "id": "d2ebc9ce",
   "metadata": {},
   "outputs": [],
   "source": []
  }
 ],
 "metadata": {
  "kernelspec": {
   "display_name": "Python 3 (ipykernel)",
   "language": "python",
   "name": "python3"
  },
  "language_info": {
   "codemirror_mode": {
    "name": "ipython",
    "version": 3
   },
   "file_extension": ".py",
   "mimetype": "text/x-python",
   "name": "python",
   "nbconvert_exporter": "python",
   "pygments_lexer": "ipython3",
   "version": "3.9.13"
  },
  "varInspector": {
   "cols": {
    "lenName": 16,
    "lenType": 16,
    "lenVar": 40
   },
   "kernels_config": {
    "python": {
     "delete_cmd_postfix": "",
     "delete_cmd_prefix": "del ",
     "library": "var_list.py",
     "varRefreshCmd": "print(var_dic_list())"
    },
    "r": {
     "delete_cmd_postfix": ") ",
     "delete_cmd_prefix": "rm(",
     "library": "var_list.r",
     "varRefreshCmd": "cat(var_dic_list()) "
    }
   },
   "types_to_exclude": [
    "module",
    "function",
    "builtin_function_or_method",
    "instance",
    "_Feature"
   ],
   "window_display": false
  }
 },
 "nbformat": 4,
 "nbformat_minor": 5
}

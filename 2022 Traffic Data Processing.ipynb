{
 "cells": [
  {
   "cell_type": "code",
   "execution_count": 1,
   "id": "680ef473",
   "metadata": {},
   "outputs": [],
   "source": [
    "import pandas as pd\n",
    "import os\n",
    "import pickle\n",
    "import numpy as np\n",
    "from geopy.geocoders import Nominatim"
   ]
  },
  {
   "cell_type": "raw",
   "id": "efa952aa",
   "metadata": {},
   "source": [
    "# Replace 'folder_path' with the path to your folder containing CSV files\n",
    "folder_path = 'han_sensorcsv_arteril_2022/'\n",
    "\n",
    "# Create an empty list to store DataFrames\n",
    "combined_data = pd.DataFrame()\n",
    "\n",
    "# Iterate through all files in the folder\n",
    "for filename in os.listdir(folder_path):\n",
    "    if filename.endswith('.csv'):\n",
    "        print(filename)\n",
    "        file_path = os.path.join(folder_path, filename)\n",
    "        # Read the CSV file into a DataFrame and append to the list\n",
    "        data_frame = pd.read_csv(file_path, header=None)\n",
    "        combined_data = pd.concat([combined_data, data_frame], ignore_index=True)\n",
    "\n",
    "# Now 'combined_data' contains the data from all CSV files\n",
    "print(combined_data.head())\n",
    "\n",
    "\n",
    "\n",
    "\n"
   ]
  },
  {
   "cell_type": "raw",
   "id": "3f7c1c3c",
   "metadata": {},
   "source": [
    "data_frame_no_duplicates = combined_data.drop_duplicates([0])"
   ]
  },
  {
   "cell_type": "raw",
   "id": "06b99ce7",
   "metadata": {},
   "source": [
    "# Load the dictionary from the pickle file\n",
    "with open('sensor_list.pkl', 'rb') as file:\n",
    "    data_frame_no_duplicates = pickle.load(file)\n",
    "\n"
   ]
  },
  {
   "cell_type": "code",
   "execution_count": 2,
   "id": "ffad2246",
   "metadata": {},
   "outputs": [],
   "source": [
    "# Load the dictionary from the pickle file\n",
    "with open('sensor_zip.pkl', 'rb') as file:\n",
    "    maps = pickle.load(file)\n",
    "\n"
   ]
  },
  {
   "cell_type": "code",
   "execution_count": 3,
   "id": "b2c5765e",
   "metadata": {},
   "outputs": [],
   "source": [
    "#data_frame_no_duplicates.to_pickle('sensor_list.pkl')\n",
    "#maps ={}"
   ]
  },
  {
   "cell_type": "raw",
   "id": "adef9305",
   "metadata": {},
   "source": [
    "# Initialize the Nominatim geocoder\n",
    "geolocator = Nominatim(user_agent=\"my_geocoder\")\n",
    "count = 0\n",
    "for i in data_frame_no_duplicates.index:\n",
    "    print(count)\n",
    "    count += 1\n",
    "    if data_frame_no_duplicates[0][i] not in maps:\n",
    "        long = data_frame_no_duplicates[2][i]\n",
    "        lat = data_frame_no_duplicates[1][i]\n",
    "        # Perform reverse geocoding to get the location details\n",
    "        location = geolocator.reverse((lat, long), exactly_one=True)\n",
    "        # Extract the address components\n",
    "        address = location.raw['address']\n",
    "        # Find the ZIP code (postal code)\n",
    "        zip_code = address.get('postcode', None)\n",
    "        if zip_code:\n",
    "            print(\"ZIP Code:\", zip_code)\n",
    "            maps[data_frame_no_duplicates[0][i]] = zip_code\n",
    "        else:\n",
    "            print(\"ZIP code not found for the provided coordinates.\")\n"
   ]
  },
  {
   "cell_type": "code",
   "execution_count": 4,
   "id": "fe122a52",
   "metadata": {},
   "outputs": [],
   "source": [
    "#with open('sensor_zip.pkl', 'wb') as file:\n",
    "#    pickle.dump(maps, file)"
   ]
  },
  {
   "cell_type": "code",
   "execution_count": 5,
   "id": "dd2a643b",
   "metadata": {},
   "outputs": [
    {
     "ename": "FileNotFoundError",
     "evalue": "[Errno 2] No such file or directory: 'han_inventcsv_arteril_2022_12local/'",
     "output_type": "error",
     "traceback": [
      "\u001b[0;31m---------------------------------------------------------------------------\u001b[0m",
      "\u001b[0;31mFileNotFoundError\u001b[0m                         Traceback (most recent call last)",
      "Cell \u001b[0;32mIn[5], line 8\u001b[0m\n\u001b[1;32m      5\u001b[0m combined_data \u001b[38;5;241m=\u001b[39m pd\u001b[38;5;241m.\u001b[39mDataFrame()\n\u001b[1;32m      7\u001b[0m \u001b[38;5;66;03m# Iterate through all files in the folder\u001b[39;00m\n\u001b[0;32m----> 8\u001b[0m \u001b[38;5;28;01mfor\u001b[39;00m filename \u001b[38;5;129;01min\u001b[39;00m \u001b[43mos\u001b[49m\u001b[38;5;241;43m.\u001b[39;49m\u001b[43mlistdir\u001b[49m\u001b[43m(\u001b[49m\u001b[43mfolder_path\u001b[49m\u001b[43m)\u001b[49m:\n\u001b[1;32m      9\u001b[0m     \u001b[38;5;28;01mif\u001b[39;00m filename\u001b[38;5;241m.\u001b[39mendswith(\u001b[38;5;124m'\u001b[39m\u001b[38;5;124m.csv\u001b[39m\u001b[38;5;124m'\u001b[39m):\n\u001b[1;32m     10\u001b[0m         \u001b[38;5;28mprint\u001b[39m(filename)\n",
      "\u001b[0;31mFileNotFoundError\u001b[0m: [Errno 2] No such file or directory: 'han_inventcsv_arteril_2022_12local/'"
     ]
    }
   ],
   "source": [
    "# Replace 'folder_path' with the path to your folder containing CSV files\n",
    "folder_path = 'han_inventcsv_arteril_2022_12local/'\n",
    "\n",
    "# Create an empty list to store DataFrames\n",
    "combined_data = pd.DataFrame()\n",
    "\n",
    "# Iterate through all files in the folder\n",
    "for filename in os.listdir(folder_path):\n",
    "    if filename.endswith('.csv'):\n",
    "        print(filename)\n",
    "        file_path = os.path.join(folder_path, filename)\n",
    "        # Read the CSV file into a DataFrame and append to the list\n",
    "        data_frame = pd.read_csv(file_path, header=None)\n",
    "        combined_data = pd.concat([combined_data, data_frame], ignore_index=True)\n",
    "\n",
    "# Now 'combined_data' contains the data from all CSV files\n",
    "print(combined_data.head())\n",
    "\n",
    "\n",
    "\n",
    "\n"
   ]
  },
  {
   "cell_type": "code",
   "execution_count": 6,
   "id": "7d68e22b",
   "metadata": {},
   "outputs": [],
   "source": [
    "x = [maps[combined_data[0][i]] if combined_data[0][i] in maps else '0' for i in combined_data.index]\n",
    "x = pd.Series(x,index = combined_data.index)\n",
    "combined_data['zip'] = x\n",
    "combined_data.to_pickle('2022_12.pkl')"
   ]
  },
  {
   "cell_type": "code",
   "execution_count": 7,
   "id": "627f69fc",
   "metadata": {},
   "outputs": [
    {
     "data": {
      "text/plain": [
       "17.484287533042657"
      ]
     },
     "execution_count": 7,
     "metadata": {},
     "output_type": "execute_result"
    }
   ],
   "source": [
    "np.mean(combined_data[1])"
   ]
  },
  {
   "cell_type": "raw",
   "id": "e4c872d8",
   "metadata": {},
   "source": [
    "anode = combined_data[combined_data[0]=='477-2-2']\n",
    "anode = anode[anode[4]=='2022/09/11']"
   ]
  },
  {
   "cell_type": "raw",
   "id": "dd947c5a",
   "metadata": {},
   "source": [
    "list_sid = set(list(combined_data[0].values))\n",
    "freq = {}\n",
    "for i in list_sid:\n",
    "    anode = combined_data[combined_data[0]==i]\n",
    "    freq[i] = len(anode)"
   ]
  },
  {
   "cell_type": "raw",
   "id": "69cb31b5",
   "metadata": {},
   "source": [
    "freq"
   ]
  },
  {
   "cell_type": "code",
   "execution_count": null,
   "id": "fcd8285c",
   "metadata": {},
   "outputs": [],
   "source": []
  }
 ],
 "metadata": {
  "kernelspec": {
   "display_name": "Python 3 (ipykernel)",
   "language": "python",
   "name": "python3"
  },
  "language_info": {
   "codemirror_mode": {
    "name": "ipython",
    "version": 3
   },
   "file_extension": ".py",
   "mimetype": "text/x-python",
   "name": "python",
   "nbconvert_exporter": "python",
   "pygments_lexer": "ipython3",
   "version": "3.9.13"
  },
  "varInspector": {
   "cols": {
    "lenName": 16,
    "lenType": 16,
    "lenVar": 40
   },
   "kernels_config": {
    "python": {
     "delete_cmd_postfix": "",
     "delete_cmd_prefix": "del ",
     "library": "var_list.py",
     "varRefreshCmd": "print(var_dic_list())"
    },
    "r": {
     "delete_cmd_postfix": ") ",
     "delete_cmd_prefix": "rm(",
     "library": "var_list.r",
     "varRefreshCmd": "cat(var_dic_list()) "
    }
   },
   "types_to_exclude": [
    "module",
    "function",
    "builtin_function_or_method",
    "instance",
    "_Feature"
   ],
   "window_display": false
  }
 },
 "nbformat": 4,
 "nbformat_minor": 5
}

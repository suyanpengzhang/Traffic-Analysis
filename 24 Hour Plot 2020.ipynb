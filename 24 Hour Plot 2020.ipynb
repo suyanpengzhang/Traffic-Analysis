{
 "cells": [
  {
   "cell_type": "code",
   "execution_count": 1,
   "id": "b14f4fa5",
   "metadata": {},
   "outputs": [
    {
     "name": "stdout",
     "output_type": "stream",
     "text": [
      "Intel MKL WARNING: Support of Intel(R) Streaming SIMD Extensions 4.2 (Intel(R) SSE4.2) enabled only processors has been deprecated. Intel oneAPI Math Kernel Library 2025.0 will require Intel(R) Advanced Vector Extensions (Intel(R) AVX) instructions.\n",
      "Intel MKL WARNING: Support of Intel(R) Streaming SIMD Extensions 4.2 (Intel(R) SSE4.2) enabled only processors has been deprecated. Intel oneAPI Math Kernel Library 2025.0 will require Intel(R) Advanced Vector Extensions (Intel(R) AVX) instructions.\n"
     ]
    }
   ],
   "source": [
    "import pickle\n",
    "import pandas as pd\n",
    "import warnings\n"
   ]
  },
  {
   "cell_type": "code",
   "execution_count": 2,
   "id": "10177140",
   "metadata": {},
   "outputs": [
    {
     "name": "stderr",
     "output_type": "stream",
     "text": [
      "/var/folders/b3/kkdtnh4d4gjgrk45d_yrf4100000gn/T/ipykernel_60593/547099611.py:2: DtypeWarning: Columns (0) have mixed types. Specify dtype option on import or set low_memory=False.\n",
      "  data_frame = pd.read_csv(file_path, header=None)\n"
     ]
    }
   ],
   "source": [
    "file_path = 'data2.csv'\n",
    "data_frame = pd.read_csv(file_path, header=None)"
   ]
  },
  {
   "cell_type": "code",
   "execution_count": 3,
   "id": "25449bcc",
   "metadata": {},
   "outputs": [],
   "source": [
    "data1003 = data_frame[data_frame[4]=='2020/10/03']"
   ]
  },
  {
   "cell_type": "code",
   "execution_count": 4,
   "id": "9f201fd4",
   "metadata": {},
   "outputs": [],
   "source": [
    "data1003ss = data1003[data1003[0]=='2227-W']"
   ]
  },
  {
   "cell_type": "code",
   "execution_count": 5,
   "id": "ab54d192",
   "metadata": {},
   "outputs": [
    {
     "data": {
      "text/html": [
       "<div>\n",
       "<style scoped>\n",
       "    .dataframe tbody tr th:only-of-type {\n",
       "        vertical-align: middle;\n",
       "    }\n",
       "\n",
       "    .dataframe tbody tr th {\n",
       "        vertical-align: top;\n",
       "    }\n",
       "\n",
       "    .dataframe thead th {\n",
       "        text-align: right;\n",
       "    }\n",
       "</style>\n",
       "<table border=\"1\" class=\"dataframe\">\n",
       "  <thead>\n",
       "    <tr style=\"text-align: right;\">\n",
       "      <th></th>\n",
       "      <th>0</th>\n",
       "      <th>1</th>\n",
       "      <th>2</th>\n",
       "      <th>3</th>\n",
       "      <th>4</th>\n",
       "      <th>5</th>\n",
       "    </tr>\n",
       "  </thead>\n",
       "  <tbody>\n",
       "    <tr>\n",
       "      <th>1407</th>\n",
       "      <td>2227-W</td>\n",
       "      <td>19.266626</td>\n",
       "      <td>145</td>\n",
       "      <td>1</td>\n",
       "      <td>2020/10/03</td>\n",
       "      <td>00:03:14</td>\n",
       "    </tr>\n",
       "    <tr>\n",
       "      <th>14984</th>\n",
       "      <td>2227-W</td>\n",
       "      <td>21.131138</td>\n",
       "      <td>38</td>\n",
       "      <td>0</td>\n",
       "      <td>2020/10/03</td>\n",
       "      <td>00:23:14</td>\n",
       "    </tr>\n",
       "    <tr>\n",
       "      <th>56824</th>\n",
       "      <td>2227-W</td>\n",
       "      <td>19.266626</td>\n",
       "      <td>26</td>\n",
       "      <td>0</td>\n",
       "      <td>2020/10/03</td>\n",
       "      <td>01:23:15</td>\n",
       "    </tr>\n",
       "    <tr>\n",
       "      <th>164673</th>\n",
       "      <td>2227-W</td>\n",
       "      <td>18.645121</td>\n",
       "      <td>30</td>\n",
       "      <td>3</td>\n",
       "      <td>2020/10/03</td>\n",
       "      <td>02:18:15</td>\n",
       "    </tr>\n",
       "    <tr>\n",
       "      <th>201844</th>\n",
       "      <td>2227-W</td>\n",
       "      <td>18.645121</td>\n",
       "      <td>47</td>\n",
       "      <td>2</td>\n",
       "      <td>2020/10/03</td>\n",
       "      <td>02:28:14</td>\n",
       "    </tr>\n",
       "    <tr>\n",
       "      <th>...</th>\n",
       "      <td>...</td>\n",
       "      <td>...</td>\n",
       "      <td>...</td>\n",
       "      <td>...</td>\n",
       "      <td>...</td>\n",
       "      <td>...</td>\n",
       "    </tr>\n",
       "    <tr>\n",
       "      <th>10508253</th>\n",
       "      <td>2227-W</td>\n",
       "      <td>18.645121</td>\n",
       "      <td>282</td>\n",
       "      <td>4</td>\n",
       "      <td>2020/10/03</td>\n",
       "      <td>11:03:14</td>\n",
       "    </tr>\n",
       "    <tr>\n",
       "      <th>10601135</th>\n",
       "      <td>2227-W</td>\n",
       "      <td>18.645121</td>\n",
       "      <td>128</td>\n",
       "      <td>2</td>\n",
       "      <td>2020/10/03</td>\n",
       "      <td>11:28:14</td>\n",
       "    </tr>\n",
       "    <tr>\n",
       "      <th>10662111</th>\n",
       "      <td>2227-W</td>\n",
       "      <td>19.888130</td>\n",
       "      <td>205</td>\n",
       "      <td>2</td>\n",
       "      <td>2020/10/03</td>\n",
       "      <td>11:43:15</td>\n",
       "    </tr>\n",
       "    <tr>\n",
       "      <th>10674880</th>\n",
       "      <td>2227-W</td>\n",
       "      <td>19.888130</td>\n",
       "      <td>236</td>\n",
       "      <td>2</td>\n",
       "      <td>2020/10/03</td>\n",
       "      <td>11:48:15</td>\n",
       "    </tr>\n",
       "    <tr>\n",
       "      <th>10729815</th>\n",
       "      <td>2227-W</td>\n",
       "      <td>19.266626</td>\n",
       "      <td>316</td>\n",
       "      <td>3</td>\n",
       "      <td>2020/10/03</td>\n",
       "      <td>12:03:15</td>\n",
       "    </tr>\n",
       "  </tbody>\n",
       "</table>\n",
       "<p>144 rows × 6 columns</p>\n",
       "</div>"
      ],
      "text/plain": [
       "               0          1    2  3           4         5\n",
       "1407      2227-W  19.266626  145  1  2020/10/03  00:03:14\n",
       "14984     2227-W  21.131138   38  0  2020/10/03  00:23:14\n",
       "56824     2227-W  19.266626   26  0  2020/10/03  01:23:15\n",
       "164673    2227-W  18.645121   30  3  2020/10/03  02:18:15\n",
       "201844    2227-W  18.645121   47  2  2020/10/03  02:28:14\n",
       "...          ...        ...  ... ..         ...       ...\n",
       "10508253  2227-W  18.645121  282  4  2020/10/03  11:03:14\n",
       "10601135  2227-W  18.645121  128  2  2020/10/03  11:28:14\n",
       "10662111  2227-W  19.888130  205  2  2020/10/03  11:43:15\n",
       "10674880  2227-W  19.888130  236  2  2020/10/03  11:48:15\n",
       "10729815  2227-W  19.266626  316  3  2020/10/03  12:03:15\n",
       "\n",
       "[144 rows x 6 columns]"
      ]
     },
     "execution_count": 5,
     "metadata": {},
     "output_type": "execute_result"
    }
   ],
   "source": [
    "data1003ss"
   ]
  },
  {
   "cell_type": "code",
   "execution_count": 7,
   "id": "23a6a30b",
   "metadata": {},
   "outputs": [
    {
     "data": {
      "image/png": "[encoded data removed]",
      "text/plain": [
       "<Figure size 640x480 with 1 Axes>"
      ]
     },
     "metadata": {},
     "output_type": "display_data"
    }
   ],
   "source": [
    "import matplotlib.pyplot as plt\n",
    "time = [pd.to_datetime(data1003ss[5][i])-pd.to_datetime('2023/09/08') for i in data1003ss.index]\n",
    "new_time = [x.total_seconds()/3600 for x in time]\n",
    "new_time = pd.Series(new_time,index = data1003ss.index)\n",
    "data1003ss['time'] = new_time\n",
    "\n",
    "#df_to_plot = flow_90013_10_03[flow_90013_10_03[0] == '2227-W']\n",
    "data1003ss = data1003ss.sort_values(by='time', ascending=True)\n",
    "# Plot x vs. y\n",
    "data1003ss.plot(x='time', y=2, kind='line', marker='o', linestyle='-')\n",
    "plt.xlabel('Time')\n",
    "plt.ylabel('Volume')\n",
    "plt.grid(True)\n",
    "plt.show()\n"
   ]
  },
  {
   "cell_type": "code",
   "execution_count": null,
   "id": "6afb586e",
   "metadata": {},
   "outputs": [],
   "source": []
  }
 ],
 "metadata": {
  "kernelspec": {
   "display_name": "Python 3 (ipykernel)",
   "language": "python",
   "name": "python3"
  },
  "language_info": {
   "codemirror_mode": {
    "name": "ipython",
    "version": 3
   },
   "file_extension": ".py",
   "mimetype": "text/x-python",
   "name": "python",
   "nbconvert_exporter": "python",
   "pygments_lexer": "ipython3",
   "version": "3.9.13"
  },
  "varInspector": {
   "cols": {
    "lenName": 16,
    "lenType": 16,
    "lenVar": 40
   },
   "kernels_config": {
    "python": {
     "delete_cmd_postfix": "",
     "delete_cmd_prefix": "del ",
     "library": "var_list.py",
     "varRefreshCmd": "print(var_dic_list())"
    },
    "r": {
     "delete_cmd_postfix": ") ",
     "delete_cmd_prefix": "rm(",
     "library": "var_list.r",
     "varRefreshCmd": "cat(var_dic_list()) "
    }
   },
   "types_to_exclude": [
    "module",
    "function",
    "builtin_function_or_method",
    "instance",
    "_Feature"
   ],
   "window_display": false
  }
 },
 "nbformat": 4,
 "nbformat_minor": 5
}

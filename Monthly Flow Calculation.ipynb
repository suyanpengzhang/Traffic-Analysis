{
 "cells": [
  {
   "cell_type": "code",
   "execution_count": 1,
   "id": "93cdebb2",
   "metadata": {},
   "outputs": [
    {
     "name": "stdout",
     "output_type": "stream",
     "text": [
      "Intel MKL WARNING: Support of Intel(R) Streaming SIMD Extensions 4.2 (Intel(R) SSE4.2) enabled only processors has been deprecated. Intel oneAPI Math Kernel Library 2025.0 will require Intel(R) Advanced Vector Extensions (Intel(R) AVX) instructions.\n",
      "Intel MKL WARNING: Support of Intel(R) Streaming SIMD Extensions 4.2 (Intel(R) SSE4.2) enabled only processors has been deprecated. Intel oneAPI Math Kernel Library 2025.0 will require Intel(R) Advanced Vector Extensions (Intel(R) AVX) instructions.\n"
     ]
    }
   ],
   "source": [
    "import pickle\n",
    "import pandas as pd"
   ]
  },
  {
   "cell_type": "code",
   "execution_count": 2,
   "id": "0c563b88",
   "metadata": {},
   "outputs": [],
   "source": [
    "# Load the dictionary from the pickle file\n",
    "with open('sensor_zip.pkl', 'rb') as file:\n",
    "    sensors = pickle.load(file)"
   ]
  },
  {
   "cell_type": "code",
   "execution_count": null,
   "id": "3308806b",
   "metadata": {},
   "outputs": [],
   "source": [
    "with open('2022_02.pkl', 'rb') as file:\n",
    "    flow_01 = pickle.load(file)"
   ]
  },
  {
   "cell_type": "code",
   "execution_count": null,
   "id": "07319b13",
   "metadata": {},
   "outputs": [],
   "source": [
    "#x = flow_01[[1,'zip']]\n",
    "x.to_pickle('/Users/suyanpengzhang/Documents/GitHub/Traffic-Analysis/Feb2022.pkl')"
   ]
  },
  {
   "cell_type": "code",
   "execution_count": null,
   "id": "e2108893",
   "metadata": {},
   "outputs": [],
   "source": [
    "d = {'zip': [0], \n",
    "     'flow1': [100], 'flow1wo0': [3],'freq1': [30], 'freq1wo0': [15],\n",
    "     'flow2': [100], 'flow2wo0': [3],'freq2': [30], 'freq2wo0': [15],\n",
    "     'flow3': [100], 'flow3wo0': [3],'freq3': [30], 'freq3wo0': [15],\n",
    "     'flow4': [100], 'flow4wo0': [3],'freq4': [30], 'freq4wo0': [15],\n",
    "     'flow5': [100], 'flow5wo0': [3],'freq5': [30], 'freq5wo0': [15],\n",
    "     'flow6': [100], 'flow6wo0': [3],'freq6': [30], 'freq6wo0': [15],\n",
    "     'flow7': [100], 'flow7wo0': [3],'freq7': [30], 'freq7wo0': [15],\n",
    "     'flow8': [100], 'flow8wo0': [3],'freq8': [30], 'freq8wo0': [15],\n",
    "     'flow9': [100], 'flow9wo0': [3],'freq9': [30], 'freq9wo0': [15],\n",
    "     'flow10': [100], 'flow10wo0': [3],'freq10': [30], 'freq10wo0': [15],\n",
    "     'flow11': [100], 'flow11wo0': [3],'freq11': [30], 'freq11wo0': [15],\n",
    "     'flow12': [100], 'flow12wo0': [3],'freq12': [30], 'freq12wo0': [15]\n",
    "    }"
   ]
  },
  {
   "cell_type": "code",
   "execution_count": null,
   "id": "4bb757a7",
   "metadata": {},
   "outputs": [],
   "source": [
    "data=pd.DataFrame(data=d)"
   ]
  },
  {
   "cell_type": "code",
   "execution_count": null,
   "id": "ad748725",
   "metadata": {},
   "outputs": [],
   "source": [
    "d2 = {'zip': [1], \n",
    "     'flow1': [100], 'flow1wo0': [3],'freq1': [30], 'freq1wo0': [15],\n",
    "     'flow2': [100], 'flow2wo0': [3],'freq2': [30], 'freq2wo0': [15],\n",
    "     'flow3': [100], 'flow3wo0': [3],'freq3': [30], 'freq3wo0': [15],\n",
    "     'flow4': [100], 'flow4wo0': [3],'freq4': [30], 'freq4wo0': [15],\n",
    "     'flow5': [100], 'flow5wo0': [3],'freq5': [30], 'freq5wo0': [15],\n",
    "     'flow6': [100], 'flow6wo0': [3],'freq6': [30], 'freq6wo0': [15],\n",
    "     'flow7': [100], 'flow7wo0': [3],'freq7': [30], 'freq7wo0': [15],\n",
    "     'flow8': [100], 'flow8wo0': [3],'freq8': [30], 'freq8wo0': [15],\n",
    "     'flow9': [100], 'flow9wo0': [3],'freq9': [30], 'freq9wo0': [15],\n",
    "     'flow10': [100], 'flow10wo0': [3],'freq10': [30], 'freq10wo0': [15],\n",
    "     'flow11': [100], 'flow11wo0': [3],'freq11': [30], 'freq11wo0': [15],\n",
    "     'flow12': [100], 'flow12wo0': [3],'freq12': [30], 'freq12wo0': [15]\n",
    "    }"
   ]
  },
  {
   "cell_type": "code",
   "execution_count": null,
   "id": "34fd0da8",
   "metadata": {},
   "outputs": [],
   "source": [
    "data2=pd.DataFrame(data=d2)"
   ]
  },
  {
   "cell_type": "code",
   "execution_count": null,
   "id": "b1d11be0",
   "metadata": {},
   "outputs": [],
   "source": [
    "pd.concat([data,data2])"
   ]
  },
  {
   "cell_type": "code",
   "execution_count": null,
   "id": "1ed4a943",
   "metadata": {},
   "outputs": [],
   "source": []
  },
  {
   "cell_type": "code",
   "execution_count": null,
   "id": "8ebe3a53",
   "metadata": {},
   "outputs": [],
   "source": []
  }
 ],
 "metadata": {
  "kernelspec": {
   "display_name": "Python 3 (ipykernel)",
   "language": "python",
   "name": "python3"
  },
  "language_info": {
   "codemirror_mode": {
    "name": "ipython",
    "version": 3
   },
   "file_extension": ".py",
   "mimetype": "text/x-python",
   "name": "python",
   "nbconvert_exporter": "python",
   "pygments_lexer": "ipython3",
   "version": "3.9.13"
  },
  "varInspector": {
   "cols": {
    "lenName": 16,
    "lenType": 16,
    "lenVar": 40
   },
   "kernels_config": {
    "python": {
     "delete_cmd_postfix": "",
     "delete_cmd_prefix": "del ",
     "library": "var_list.py",
     "varRefreshCmd": "print(var_dic_list())"
    },
    "r": {
     "delete_cmd_postfix": ") ",
     "delete_cmd_prefix": "rm(",
     "library": "var_list.r",
     "varRefreshCmd": "cat(var_dic_list()) "
    }
   },
   "types_to_exclude": [
    "module",
    "function",
    "builtin_function_or_method",
    "instance",
    "_Feature"
   ],
   "window_display": false
  }
 },
 "nbformat": 4,
 "nbformat_minor": 5
}

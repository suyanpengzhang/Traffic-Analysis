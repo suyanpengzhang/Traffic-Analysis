{
 "cells": [
  {
   "cell_type": "code",
   "execution_count": 1,
   "id": "513809b6",
   "metadata": {},
   "outputs": [
    {
     "name": "stdout",
     "output_type": "stream",
     "text": [
      "Intel MKL WARNING: Support of Intel(R) Streaming SIMD Extensions 4.2 (Intel(R) SSE4.2) enabled only processors has been deprecated. Intel oneAPI Math Kernel Library 2025.0 will require Intel(R) Advanced Vector Extensions (Intel(R) AVX) instructions.\n",
      "Intel MKL WARNING: Support of Intel(R) Streaming SIMD Extensions 4.2 (Intel(R) SSE4.2) enabled only processors has been deprecated. Intel oneAPI Math Kernel Library 2025.0 will require Intel(R) Advanced Vector Extensions (Intel(R) AVX) instructions.\n"
     ]
    }
   ],
   "source": [
    "import pickle\n",
    "import pandas as pd\n",
    "import warnings\n",
    "import numpy as np\n",
    "from scipy.integrate import odeint\n",
    "import matplotlib.pyplot as plt\n",
    "from scipy.optimize import minimize\n",
    "from scipy import optimize\n",
    "import pickle\n",
    "import statsmodels.api as sm\n",
    "from scipy import stats"
   ]
  },
  {
   "cell_type": "code",
   "execution_count": 2,
   "id": "fa9ca222",
   "metadata": {},
   "outputs": [
    {
     "ename": "ModuleNotFoundError",
     "evalue": "No module named 'pandas.core.indexes.numeric'",
     "output_type": "error",
     "traceback": [
      "\u001b[0;31m---------------------------------------------------------------------------\u001b[0m",
      "\u001b[0;31mModuleNotFoundError\u001b[0m                       Traceback (most recent call last)",
      "Cell \u001b[0;32mIn[2], line 3\u001b[0m\n\u001b[1;32m      1\u001b[0m file_path \u001b[38;5;241m=\u001b[39m \u001b[38;5;124mf\u001b[39m\u001b[38;5;124m'\u001b[39m\u001b[38;5;124mmonthly_data/regression_data_sensor.pkl\u001b[39m\u001b[38;5;124m'\u001b[39m\n\u001b[1;32m      2\u001b[0m \u001b[38;5;28;01mwith\u001b[39;00m \u001b[38;5;28mopen\u001b[39m(file_path, \u001b[38;5;124m'\u001b[39m\u001b[38;5;124mrb\u001b[39m\u001b[38;5;124m'\u001b[39m) \u001b[38;5;28;01mas\u001b[39;00m file:\n\u001b[0;32m----> 3\u001b[0m     flow\u001b[38;5;241m=\u001b[39m\u001b[43mpickle\u001b[49m\u001b[38;5;241;43m.\u001b[39;49m\u001b[43mload\u001b[49m\u001b[43m(\u001b[49m\u001b[43mfile\u001b[49m\u001b[43m)\u001b[49m\n\u001b[1;32m      4\u001b[0m censusdata \u001b[38;5;241m=\u001b[39m pickle\u001b[38;5;241m.\u001b[39mload( \u001b[38;5;28mopen\u001b[39m( \u001b[38;5;124m\"\u001b[39m\u001b[38;5;124mdiff_in_diff.p\u001b[39m\u001b[38;5;124m\"\u001b[39m, \u001b[38;5;124m\"\u001b[39m\u001b[38;5;124mrb\u001b[39m\u001b[38;5;124m\"\u001b[39m ) )\n\u001b[1;32m      5\u001b[0m new \u001b[38;5;241m=\u001b[39m censusdata\u001b[38;5;241m.\u001b[39mgroupby([\u001b[38;5;124m'\u001b[39m\u001b[38;5;124mzipcode\u001b[39m\u001b[38;5;124m'\u001b[39m])\n",
      "\u001b[0;31mModuleNotFoundError\u001b[0m: No module named 'pandas.core.indexes.numeric'"
     ]
    }
   ],
   "source": [
    "file_path = f'monthly_data/regression_data_sensor.pkl'\n",
    "with open(file_path, 'rb') as file:\n",
    "    flow=pickle.load(file)\n",
    "censusdata = pickle.load( open( \"diff_in_diff.p\", \"rb\" ) )\n",
    "new = censusdata.groupby(['zipcode'])\n",
    "results = new.sum()\n",
    "\n",
    "flow = pickle.load( open( \"sensor_demo_traffic.pkl\", \"rb\" ) )\n"
   ]
  },
  {
   "cell_type": "raw",
   "id": "54cc18fb",
   "metadata": {},
   "source": [
    "cols = [i for i in range(9,51)]\n",
    "cols.append(55)\n",
    "#cols.append(56)"
   ]
  },
  {
   "cell_type": "raw",
   "id": "eb61453a",
   "metadata": {},
   "source": [
    "for name in cols:\n",
    "    print(censusdata.columns[name])\n",
    "    list_ = [results[censusdata.columns[name]][int(flow['zip'][i])] if int(flow['zip'][i]) in results.index else np.nan for i in flow.index]\n",
    "    list_ = pd.Series(list_,index = flow.index)\n",
    "    flow[censusdata.columns[name]] = list_\n",
    "    flow = flow.dropna()\n",
    "    flow = flow[flow[censusdata.columns[name]]>0]"
   ]
  },
  {
   "cell_type": "raw",
   "id": "2a3ecb1e",
   "metadata": {},
   "source": [
    "diff_in_diff = [(flow['2020_10'][i]+flow['2020_11'][i]+flow['2020_12'][i]\n",
    "                 -flow['2020_04'][i]-flow['2020_05'][i]-flow['2020_06'][i])\n",
    "               -(flow['2022_10'][i]+flow['2022_11'][i]+flow['2022_12'][i]\n",
    "                 -flow['2022_04'][i]-flow['2022_05'][i]-flow['2022_06'][i]) for i in flow.index]\n",
    "diff_in_diff = pd.Series(diff_in_diff,index = flow.index)\n",
    "flow['diffindiff'] = diff_in_diff"
   ]
  },
  {
   "cell_type": "raw",
   "id": "3fcc1f80",
   "metadata": {},
   "source": [
    "with open('sensor_demo_traffic.pkl', 'wb') as file:\n",
    "        pickle.dump(flow, file)"
   ]
  },
  {
   "cell_type": "code",
   "execution_count": null,
   "id": "2fd20994",
   "metadata": {},
   "outputs": [],
   "source": [
    "data1p = [i for i in flow['total']]\n",
    "data1e = [i for i in flow['employed_ratio']]\n",
    "data1i = [i for i in flow['median income (dollars)']]\n",
    "data1w = [i for i in flow['hispanic_ratio']]\n",
    "data1b = [i for i in flow['black_ratio']]\n",
    "data1a = [i for i in flow['asian_ratio']]\n",
    "data1h = [i for i in flow['other_ratio']]\n",
    "data1d = [i for i in flow['population density']]\n",
    "data1di = [i for i in flow['diverse index']]\n",
    "\n",
    "data1traffic = np.array([i for i in flow['diffindiff']])\n",
    "\n",
    "#train = np.array([data1p,data1e,data1i,data1w,data1b,data1a,data1h,data1d,data1di,\n",
    "#                  data1c1,data1c2,data1c3,data1c4,data1c5,data1c6,\n",
    "#                  data1cl1,data1cl2,data1cl3,data1car]).T \n",
    "train = np.array([data1p,data1e,data1i,data1w,data1b,data1a,data1h,data1d,data1di]).T \n",
    "\n",
    "train = sm.add_constant(train)\n",
    "lr1 = sm.OLS(data1traffic ,train).fit()\n",
    "\n",
    "#lr1.summary(xname=['const','total population', 'employment ratio','median income', 'hispanic proportion', 'black proportion', 'asian proportion', 'other proportion','population density','diverse index','drove alone','carpool','public','walked','at home','time','private wage','government','self','cars'])\n",
    "lr1.summary(xname=['const','total population', 'employment ratio','median income', 'hispanic proportion', 'black proportion', 'asian proportion', 'other proportion','population density','diverse index'])\n"
   ]
  },
  {
   "cell_type": "code",
   "execution_count": null,
   "id": "b6332762",
   "metadata": {},
   "outputs": [],
   "source": [
    "data1p = [i for i in flow['total']]\n",
    "data1e = [i for i in flow['employed_ratio']]\n",
    "data1i = [i for i in flow['median income (dollars)']]\n",
    "data1w = [i for i in flow['hispanic_ratio']]\n",
    "data1b = [i for i in flow['black_ratio']]\n",
    "data1a = [i for i in flow['asian_ratio']]\n",
    "data1h = [i for i in flow['other_ratio']]\n",
    "data1d = [i for i in flow['population density']]\n",
    "data1di = [i for i in flow['diverse index']]\n",
    "\n",
    "data1c1 = [i for i in flow['commuting_drove_alone']]\n",
    "data1c2 = [i for i in flow['commuting_carpool']]\n",
    "data1c3 = [i for i in flow['commuting_public']]\n",
    "data1c4 = [i for i in flow['commuting_walked']]\n",
    "data1c5 = [i for i in flow['commuting_at_home']]\n",
    "data1c6 = [i for i in flow['commuting_time']]\n",
    "\n",
    "data1cl1 = [i for i in flow['class_private_wage']]\n",
    "data1cl2 = [i for i in flow['class_government']]\n",
    "data1cl3 = [i for i in flow['class_self']]\n",
    "\n",
    "data1i1 = [i for i in flow['industry_1']]\n",
    "data1i2 = [i for i in flow['industry_2']]\n",
    "data1i3 = [i for i in flow['industry_3']]\n",
    "data1i4 = [i for i in flow['industry_4']]\n",
    "data1i5 = [i for i in flow['industry_5']]\n",
    "data1i6 = [i for i in flow['industry_6']]\n",
    "data1i7 = [i for i in flow['industry_7']]\n",
    "data1i8 = [i for i in flow['industry_8']]\n",
    "data1i9 = [i for i in flow['industry_9']]\n",
    "data1i10 = [i for i in flow['industry_10']]\n",
    "data1i11 = [i for i in flow['industry_11']]\n",
    "data1i12 = [i for i in flow['industry_12']]\n",
    "\n",
    "data1car = [i for i in flow['num_cars']]\n",
    "\n",
    "\n",
    "\n",
    "data1traffic = np.array([i for i in flow['diffindiff']])\n",
    "\n",
    "train = np.array([data1p,data1e,data1i,data1w,data1b,data1a,data1h,data1d,data1di,\n",
    "                  data1c1,data1c2,data1c3,data1c4,data1c5,data1c6,\n",
    "                  data1cl1,data1cl2,data1cl3,\n",
    "                 data1i1,data1i2,data1i3,data1i4,data1i5,data1i6,data1i7,data1i8,data1i9,data1i10,data1i11,data1i12,data1car]).T \n",
    "\n",
    "train = sm.add_constant(train)\n",
    "lr1 = sm.OLS(data1traffic ,train).fit()\n",
    "\n",
    "lr1.summary(xname=['const','total population', 'employment ratio','median income', 'hispanic proportion', 'black proportion', 'asian proportion', 'other proportion','population density','diverse index','drove alone','carpool','public','walked','at home','time','private wage','government','self','1','2','3','4','5','6','7','8','9','10','11','12','cars'])\n",
    "\n",
    "#1:Agriculture, forestry, fishing and hunting, and mining\n",
    "#2:Construction\n",
    "#3:Manufacturing\n",
    "#4:Wholesale trade\n",
    "#5:Retail trade\n",
    "#6:Transportation and warehousing, and utilities\n",
    "#7:Information\n",
    "#8:Finance and insurance, and real estate and rental and leasing\n",
    "#9:Professional, scientific, and management, and administrative and waste management services\n",
    "#10:Educational services, and health care and social assistance\n",
    "#11:Arts, entertainment, and recreation, and accommodation and food services\n",
    "#12:Other services, except public administration\n",
    "#13:Public administration"
   ]
  },
  {
   "cell_type": "code",
   "execution_count": null,
   "id": "4ba09992",
   "metadata": {},
   "outputs": [],
   "source": []
  }
 ],
 "metadata": {
  "kernelspec": {
   "display_name": "Python 3 (ipykernel)",
   "language": "python",
   "name": "python3"
  },
  "language_info": {
   "codemirror_mode": {
    "name": "ipython",
    "version": 3
   },
   "file_extension": ".py",
   "mimetype": "text/x-python",
   "name": "python",
   "nbconvert_exporter": "python",
   "pygments_lexer": "ipython3",
   "version": "3.9.13"
  },
  "varInspector": {
   "cols": {
    "lenName": 16,
    "lenType": 16,
    "lenVar": 40
   },
   "kernels_config": {
    "python": {
     "delete_cmd_postfix": "",
     "delete_cmd_prefix": "del ",
     "library": "var_list.py",
     "varRefreshCmd": "print(var_dic_list())"
    },
    "r": {
     "delete_cmd_postfix": ") ",
     "delete_cmd_prefix": "rm(",
     "library": "var_list.r",
     "varRefreshCmd": "cat(var_dic_list()) "
    }
   },
   "types_to_exclude": [
    "module",
    "function",
    "builtin_function_or_method",
    "instance",
    "_Feature"
   ],
   "window_display": false
  }
 },
 "nbformat": 4,
 "nbformat_minor": 5
}

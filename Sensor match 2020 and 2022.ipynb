{
 "cells": [
  {
   "cell_type": "code",
   "execution_count": 1,
   "id": "26afb6e8",
   "metadata": {},
   "outputs": [
    {
     "name": "stdout",
     "output_type": "stream",
     "text": [
      "Intel MKL WARNING: Support of Intel(R) Streaming SIMD Extensions 4.2 (Intel(R) SSE4.2) enabled only processors has been deprecated. Intel oneAPI Math Kernel Library 2025.0 will require Intel(R) Advanced Vector Extensions (Intel(R) AVX) instructions.\n",
      "Intel MKL WARNING: Support of Intel(R) Streaming SIMD Extensions 4.2 (Intel(R) SSE4.2) enabled only processors has been deprecated. Intel oneAPI Math Kernel Library 2025.0 will require Intel(R) Advanced Vector Extensions (Intel(R) AVX) instructions.\n"
     ]
    }
   ],
   "source": [
    "import pickle\n",
    "import pandas as pd\n",
    "import warnings\n",
    "import numpy as np\n",
    "from scipy.integrate import odeint\n",
    "import matplotlib.pyplot as plt\n",
    "from scipy.optimize import minimize\n",
    "from scipy import optimize\n",
    "import pickle\n",
    "import statsmodels.api as sm\n",
    "from scipy import stats"
   ]
  },
  {
   "cell_type": "markdown",
   "id": "27d22c6b",
   "metadata": {},
   "source": [
    "with open(\"Arterial_ID_zip.p\", \"rb\") as file:\n",
    "    ID_zip = pickle.load(file)\n",
    "with open(\"sensor_zip.pkl\", \"rb\") as file:\n",
    "    ID_zip_2022 = pickle.load(file)"
   ]
  },
  {
   "cell_type": "raw",
   "id": "0031a92b",
   "metadata": {},
   "source": [
    "ID_shared_zip = {}\n",
    "for id_ in ID_zip_2022:\n",
    "    if id_ in ID_zip.ID.values:\n",
    "        ID_shared_zip[id_] = ID_zip_2022[id_][0:5]\n",
    "with open(f'sensor_to_zip_2020_2022.pkl', 'wb') as file:\n",
    "        pickle.dump(ID_shared_zip, file)"
   ]
  },
  {
   "cell_type": "code",
   "execution_count": 7,
   "id": "20f5cb30",
   "metadata": {},
   "outputs": [],
   "source": [
    "with open(\"sensor_to_zip_2020_2022.pkl\", \"rb\") as file:\n",
    "    ID_zip = pickle.load(file)"
   ]
  },
  {
   "cell_type": "raw",
   "id": "bcdc56c3",
   "metadata": {},
   "source": [
    "#months = ['01', '02', '03', '04', '05', '06', '07', '08', '09', '10', '11', '12']\n",
    "months = [ '04', '05', '06', '10', '11', '12']\n",
    "for month in months:\n",
    "    current2020={}\n",
    "    current2022={}\n",
    "    print(month)\n",
    "    # Load the data for the current month\n",
    "    file_name = f'preprocessing data/volume_2020_{month}.pkl'\n",
    "    with open(file_name, 'rb') as file:\n",
    "        flow2020 = pickle.load(file)\n",
    "    file_name = f'preprocessing data/volume_2022_{month}.pkl'\n",
    "    with open(file_name, 'rb') as file:\n",
    "        flow2022 = pickle.load(file)\n",
    "    for k in flow2020.keys():\n",
    "        if k[0] in ID_zip:\n",
    "            if k[0] in current2020:\n",
    "                current2020[k[0]] = current2020[k[0]]+[flow2020[k][0]]\n",
    "            else:\n",
    "                current2020[k[0]] = [flow2020[k][0]]\n",
    "    for k in flow2022.keys():\n",
    "        if k[0] in ID_zip:\n",
    "            if k[0] in current2022:\n",
    "                current2022[k[0]] = current2022[k[0]]+[flow2022[k][0]]\n",
    "            else:\n",
    "                current2022[k[0]] = [flow2022[k][0]]\n",
    "    # Specify the file path for the current month\n",
    "    file_path = f'monthly_data/sensor_monthly_2020_{month}.pkl'\n",
    "    \n",
    "    # Save the dictionary for the current month as a pickle file\n",
    "    with open(file_path, 'wb') as file:\n",
    "        pickle.dump(current2020, file)\n",
    "    # Specify the file path for the current month\n",
    "    file_path = f'monthly_data/sensor_monthly_2022_{month}.pkl'\n",
    "    \n",
    "    # Save the dictionary for the current month as a pickle file\n",
    "    with open(file_path, 'wb') as file:\n",
    "        pickle.dump(current2022, file)"
   ]
  },
  {
   "cell_type": "code",
   "execution_count": 21,
   "id": "1e6d5f8e",
   "metadata": {},
   "outputs": [],
   "source": [
    "months = ['04', '05', '06', '10', '11', '12']\n",
    "years = ['2020', '2022']\n",
    "zips = []\n",
    "sensors = []\n",
    "new = {}\n",
    "data ={}\n",
    "#data['Zips'] = []\n",
    "data['sensor'] = []\n",
    "for month in months:\n",
    "    for year in years:\n",
    "        data[f'{year}_{month}'] = []\n",
    "        file_name = f'monthly_data/sensor_monthly_{year}_{month}.pkl'\n",
    "        with open(file_name, 'rb') as file:\n",
    "            flow = pickle.load(file)\n",
    "        for sensor_id in list(flow.keys()):\n",
    "            if sensor_id !=0:\n",
    "                if sensor_id not in sensors:\n",
    "                    sensors.append(sensor_id)\n",
    "                if (f'{year}_{month}',sensor_id) not in new:\n",
    "                    new[(f'{year}_{month}',sensor_id)] = flow[sensor_id]\n",
    "                else:\n",
    "                    new[(f'{year}_{month}',sensor_id)] = new[(f'{year}_{month}',sensor_id)] + flow[sensor_id]\n",
    "                    #print(new[(f'{year}_{month}',zip_id[0:5])])"
   ]
  },
  {
   "cell_type": "code",
   "execution_count": 22,
   "id": "c51e3bcc",
   "metadata": {},
   "outputs": [],
   "source": [
    "for si in sensors:\n",
    "    data['sensor'].append(si)\n",
    "    for month in months:\n",
    "        for year in years:\n",
    "            if (f'{year}_{month}',si) not in new:\n",
    "                data[f'{year}_{month}'].append(0)\n",
    "            else:\n",
    "                data[f'{year}_{month}'].append(np.mean(new[(f'{year}_{month}',si)]))"
   ]
  },
  {
   "cell_type": "code",
   "execution_count": 23,
   "id": "3edae506",
   "metadata": {},
   "outputs": [],
   "source": [
    "df = pd.DataFrame(data)"
   ]
  },
  {
   "cell_type": "code",
   "execution_count": 28,
   "id": "1aebdbe8",
   "metadata": {},
   "outputs": [],
   "source": [
    "zips = [ID_zip[i] for i in df.sensor.values]\n",
    "zips = pd.Series(zips,index=df.index)\n",
    "df['zip']=zips"
   ]
  },
  {
   "cell_type": "code",
   "execution_count": 30,
   "id": "c3194f92",
   "metadata": {},
   "outputs": [],
   "source": [
    "df1 = df[df['2020_04']>0]\n",
    "df1 = df1[df1['2020_05']>0]\n",
    "df1 = df1[df1['2020_06']>0]\n",
    "df1 = df1[df1['2020_10']>0]\n",
    "df1 = df1[df1['2020_11']>0]\n",
    "df1 = df1[df1['2020_12']>0]\n",
    "df1 = df1[df1['2022_04']>0]\n",
    "df1 = df1[df1['2022_05']>0]\n",
    "df1 = df1[df1['2022_06']>0]\n",
    "df1 = df1[df1['2022_10']>0]\n",
    "df1 = df1[df1['2022_11']>0]\n",
    "df1 = df1[df1['2022_12']>0]"
   ]
  },
  {
   "cell_type": "code",
   "execution_count": 33,
   "id": "ee43b2b0",
   "metadata": {},
   "outputs": [],
   "source": [
    "file_path = f'monthly_data/regression_data_sensor.pkl'\n",
    "    \n",
    "# Save the dictionary for the current month as a pickle file\n",
    "with open(file_path, 'wb') as file:\n",
    "    pickle.dump(df1, file)"
   ]
  },
  {
   "cell_type": "code",
   "execution_count": null,
   "id": "baccb825",
   "metadata": {},
   "outputs": [],
   "source": []
  }
 ],
 "metadata": {
  "kernelspec": {
   "display_name": "Python 3 (ipykernel)",
   "language": "python",
   "name": "python3"
  },
  "language_info": {
   "codemirror_mode": {
    "name": "ipython",
    "version": 3
   },
   "file_extension": ".py",
   "mimetype": "text/x-python",
   "name": "python",
   "nbconvert_exporter": "python",
   "pygments_lexer": "ipython3",
   "version": "3.9.13"
  },
  "varInspector": {
   "cols": {
    "lenName": 16,
    "lenType": 16,
    "lenVar": 40
   },
   "kernels_config": {
    "python": {
     "delete_cmd_postfix": "",
     "delete_cmd_prefix": "del ",
     "library": "var_list.py",
     "varRefreshCmd": "print(var_dic_list())"
    },
    "r": {
     "delete_cmd_postfix": ") ",
     "delete_cmd_prefix": "rm(",
     "library": "var_list.r",
     "varRefreshCmd": "cat(var_dic_list()) "
    }
   },
   "types_to_exclude": [
    "module",
    "function",
    "builtin_function_or_method",
    "instance",
    "_Feature"
   ],
   "window_display": false
  }
 },
 "nbformat": 4,
 "nbformat_minor": 5
}

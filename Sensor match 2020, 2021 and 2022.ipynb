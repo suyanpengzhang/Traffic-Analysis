{
 "cells": [
  {
   "cell_type": "code",
   "execution_count": 1,
   "id": "26afb6e8",
   "metadata": {},
   "outputs": [],
   "source": [
    "import pickle\n",
    "import pandas as pd\n",
    "import warnings\n",
    "import numpy as np\n",
    "from scipy.integrate import odeint\n",
    "import matplotlib.pyplot as plt\n",
    "from scipy.optimize import minimize\n",
    "from scipy import optimize\n",
    "import pickle\n",
    "import statsmodels.api as sm\n",
    "from scipy import stats"
   ]
  },
  {
   "cell_type": "markdown",
   "id": "27d22c6b",
   "metadata": {},
   "source": [
    "with open(\"Arterial_ID_zip.p\", \"rb\") as file:\n",
    "    ID_zip = pickle.load(file)\n",
    "with open(\"sensor_zip.pkl\", \"rb\") as file:\n",
    "    ID_zip_2022 = pickle.load(file)"
   ]
  },
  {
   "cell_type": "raw",
   "id": "0031a92b",
   "metadata": {},
   "source": [
    "ID_shared_zip = {}\n",
    "for id_ in ID_zip_2022:\n",
    "    if id_ in ID_zip.ID.values:\n",
    "        ID_shared_zip[id_] = ID_zip_2022[id_][0:5]\n",
    "with open(f'sensor_to_zip_2020_2022.pkl', 'wb') as file:\n",
    "        pickle.dump(ID_shared_zip, file)"
   ]
  },
  {
   "cell_type": "code",
   "execution_count": 2,
   "id": "20f5cb30",
   "metadata": {},
   "outputs": [],
   "source": [
    "with open(\"sensor_to_zip_2020_2022.pkl\", \"rb\") as file:\n",
    "    ID_zip = pickle.load(file)"
   ]
  },
  {
   "cell_type": "code",
   "execution_count": 4,
   "id": "5fe9fb9a",
   "metadata": {},
   "outputs": [
    {
     "name": "stdout",
     "output_type": "stream",
     "text": [
      "01\n",
      "03\n",
      "04\n",
      "05\n",
      "06\n",
      "07\n",
      "08\n",
      "09\n",
      "10\n",
      "11\n",
      "12\n"
     ]
    }
   ],
   "source": [
    "months = ['01', '03', '04', '05', '06', '07', '08', '09', '10', '11', '12']\n",
    "#months = [ '04', '05', '06', '10', '11', '12']\n",
    "for month in months:\n",
    "    current2020={}\n",
    "    current2021={}\n",
    "    current2022={}\n",
    "    print(month)\n",
    "    # Load the data for the current month\n",
    "    file_name = f'preprocessing data/volume_2020_{month}.pkl'\n",
    "    with open(file_name, 'rb') as file:\n",
    "        flow2020 = pickle.load(file)\n",
    "    file_name = f'preprocessing data/volume_2021_{month}.pkl'\n",
    "    with open(file_name, 'rb') as file:\n",
    "        flow2021 = pickle.load(file)\n",
    "    file_name = f'preprocessing data/volume_2022_{month}.pkl'\n",
    "    with open(file_name, 'rb') as file:\n",
    "        flow2022 = pickle.load(file)\n",
    "    for k in flow2020.keys():\n",
    "        if k[0] in ID_zip:\n",
    "            if k[0] in current2020:\n",
    "                current2020[k[0]] = current2020[k[0]]+[flow2020[k][0]]\n",
    "            else:\n",
    "                current2020[k[0]] = [flow2020[k][0]]\n",
    "    for k in flow2021.keys():\n",
    "        if k[0] in ID_zip:\n",
    "            if k[0] in current2021:\n",
    "                current2021[k[0]] = current2021[k[0]]+[flow2021[k][0]]\n",
    "            else:\n",
    "                current2021[k[0]] = [flow2021[k][0]]\n",
    "    for k in flow2022.keys():\n",
    "        if k[0] in ID_zip:\n",
    "            if k[0] in current2022:\n",
    "                current2022[k[0]] = current2022[k[0]]+[flow2022[k][0]]\n",
    "            else:\n",
    "                current2022[k[0]] = [flow2022[k][0]]\n",
    "    # Specify the file path for the current month\n",
    "    file_path = f'monthly_data/sensor_monthly_2020_{month}.pkl'\n",
    "    \n",
    "    # Save the dictionary for the current month as a pickle file\n",
    "    with open(file_path, 'wb') as file:\n",
    "        pickle.dump(current2020, file)\n",
    "    # Specify the file path for the current month\n",
    "    file_path = f'monthly_data/sensor_monthly_2021_{month}.pkl'\n",
    "    \n",
    "    # Save the dictionary for the current month as a pickle file\n",
    "    with open(file_path, 'wb') as file:\n",
    "        pickle.dump(current2021, file)\n",
    "    # Specify the file path for the current month\n",
    "    file_path = f'monthly_data/sensor_monthly_2022_{month}.pkl'\n",
    "    \n",
    "    # Save the dictionary for the current month as a pickle file\n",
    "    with open(file_path, 'wb') as file:\n",
    "        pickle.dump(current2022, file)"
   ]
  },
  {
   "cell_type": "raw",
   "id": "bcdc56c3",
   "metadata": {},
   "source": [
    "#months = ['01', '02', '03', '04', '05', '06', '07', '08', '09', '10', '11', '12']\n",
    "months = [ '04', '05', '06', '10', '11', '12']\n",
    "for month in months:\n",
    "    current2020={}\n",
    "    current2022={}\n",
    "    print(month)\n",
    "    # Load the data for the current month\n",
    "    file_name = f'preprocessing data/volume_2020_{month}.pkl'\n",
    "    with open(file_name, 'rb') as file:\n",
    "        flow2020 = pickle.load(file)\n",
    "    file_name = f'preprocessing data/volume_2022_{month}.pkl'\n",
    "    with open(file_name, 'rb') as file:\n",
    "        flow2022 = pickle.load(file)\n",
    "    for k in flow2020.keys():\n",
    "        if k[0] in ID_zip:\n",
    "            if k[0] in current2020:\n",
    "                current2020[k[0]] = current2020[k[0]]+[flow2020[k][0]]\n",
    "            else:\n",
    "                current2020[k[0]] = [flow2020[k][0]]\n",
    "    for k in flow2022.keys():\n",
    "        if k[0] in ID_zip:\n",
    "            if k[0] in current2022:\n",
    "                current2022[k[0]] = current2022[k[0]]+[flow2022[k][0]]\n",
    "            else:\n",
    "                current2022[k[0]] = [flow2022[k][0]]\n",
    "    # Specify the file path for the current month\n",
    "    file_path = f'monthly_data/sensor_monthly_2020_{month}.pkl'\n",
    "    \n",
    "    # Save the dictionary for the current month as a pickle file\n",
    "    with open(file_path, 'wb') as file:\n",
    "        pickle.dump(current2020, file)\n",
    "    # Specify the file path for the current month\n",
    "    file_path = f'monthly_data/sensor_monthly_2022_{month}.pkl'\n",
    "    \n",
    "    # Save the dictionary for the current month as a pickle file\n",
    "    with open(file_path, 'wb') as file:\n",
    "        pickle.dump(current2022, file)"
   ]
  },
  {
   "cell_type": "code",
   "execution_count": 21,
   "id": "1e6d5f8e",
   "metadata": {},
   "outputs": [],
   "source": [
    "months = ['04', '05', '06', '10', '11', '12']\n",
    "years = ['2020', '2022']\n",
    "zips = []\n",
    "sensors = []\n",
    "new = {}\n",
    "data ={}\n",
    "#data['Zips'] = []\n",
    "data['sensor'] = []\n",
    "for month in months:\n",
    "    for year in years:\n",
    "        data[f'{year}_{month}'] = []\n",
    "        file_name = f'monthly_data/sensor_monthly_{year}_{month}.pkl'\n",
    "        with open(file_name, 'rb') as file:\n",
    "            flow = pickle.load(file)\n",
    "        for sensor_id in list(flow.keys()):\n",
    "            if sensor_id !=0:\n",
    "                if sensor_id not in sensors:\n",
    "                    sensors.append(sensor_id)\n",
    "                if (f'{year}_{month}',sensor_id) not in new:\n",
    "                    new[(f'{year}_{month}',sensor_id)] = flow[sensor_id]\n",
    "                else:\n",
    "                    new[(f'{year}_{month}',sensor_id)] = new[(f'{year}_{month}',sensor_id)] + flow[sensor_id]\n",
    "                    #print(new[(f'{year}_{month}',zip_id[0:5])])"
   ]
  },
  {
   "cell_type": "code",
   "execution_count": 22,
   "id": "c51e3bcc",
   "metadata": {},
   "outputs": [],
   "source": [
    "for si in sensors:\n",
    "    data['sensor'].append(si)\n",
    "    for month in months:\n",
    "        for year in years:\n",
    "            if (f'{year}_{month}',si) not in new:\n",
    "                data[f'{year}_{month}'].append(0)\n",
    "            else:\n",
    "                data[f'{year}_{month}'].append(np.mean(new[(f'{year}_{month}',si)]))"
   ]
  },
  {
   "cell_type": "code",
   "execution_count": 23,
   "id": "3edae506",
   "metadata": {},
   "outputs": [],
   "source": [
    "df = pd.DataFrame(data)"
   ]
  },
  {
   "cell_type": "code",
   "execution_count": 28,
   "id": "1aebdbe8",
   "metadata": {},
   "outputs": [],
   "source": [
    "zips = [ID_zip[i] for i in df.sensor.values]\n",
    "zips = pd.Series(zips,index=df.index)\n",
    "df['zip']=zips"
   ]
  },
  {
   "cell_type": "code",
   "execution_count": 30,
   "id": "c3194f92",
   "metadata": {},
   "outputs": [],
   "source": [
    "df1 = df[df['2020_04']>0]\n",
    "df1 = df1[df1['2020_05']>0]\n",
    "df1 = df1[df1['2020_06']>0]\n",
    "df1 = df1[df1['2020_10']>0]\n",
    "df1 = df1[df1['2020_11']>0]\n",
    "df1 = df1[df1['2020_12']>0]\n",
    "df1 = df1[df1['2022_04']>0]\n",
    "df1 = df1[df1['2022_05']>0]\n",
    "df1 = df1[df1['2022_06']>0]\n",
    "df1 = df1[df1['2022_10']>0]\n",
    "df1 = df1[df1['2022_11']>0]\n",
    "df1 = df1[df1['2022_12']>0]"
   ]
  },
  {
   "cell_type": "code",
   "execution_count": 33,
   "id": "ee43b2b0",
   "metadata": {},
   "outputs": [],
   "source": [
    "file_path = f'monthly_data/regression_data_sensor.pkl'\n",
    "    \n",
    "# Save the dictionary for the current month as a pickle file\n",
    "with open(file_path, 'wb') as file:\n",
    "    pickle.dump(df1, file)"
   ]
  },
  {
   "cell_type": "code",
   "execution_count": 5,
   "id": "baccb825",
   "metadata": {},
   "outputs": [
    {
     "data": {
      "text/plain": [
       "{'17186-E': [3.7762237762237763],\n",
       " '17186-W': [1.8918918918918919],\n",
       " '13136-N': [2.1407766990291264],\n",
       " '13138-N': [0.6744186046511628]}"
      ]
     },
     "execution_count": 5,
     "metadata": {},
     "output_type": "execute_result"
    }
   ],
   "source": [
    "current2021"
   ]
  },
  {
   "cell_type": "code",
   "execution_count": 7,
   "id": "6ad05b02",
   "metadata": {},
   "outputs": [
    {
     "data": {
      "text/plain": [
       "11735"
      ]
     },
     "execution_count": 7,
     "metadata": {},
     "output_type": "execute_result"
    }
   ],
   "source": [
    "len(list(ID_zip.values()))"
   ]
  },
  {
   "cell_type": "code",
   "execution_count": 9,
   "id": "1603f604",
   "metadata": {},
   "outputs": [
    {
     "data": {
      "text/plain": [
       "182"
      ]
     },
     "execution_count": 9,
     "metadata": {},
     "output_type": "execute_result"
    }
   ],
   "source": [
    "len(set(list(ID_zip.values())))"
   ]
  },
  {
   "cell_type": "code",
   "execution_count": 10,
   "id": "62b716d4",
   "metadata": {},
   "outputs": [
    {
     "data": {
      "text/plain": [
       "{'13359',\n",
       " '90001',\n",
       " '90002',\n",
       " '90003',\n",
       " '90004',\n",
       " '90005',\n",
       " '90006',\n",
       " '90007',\n",
       " '90008',\n",
       " '90009',\n",
       " '90010',\n",
       " '90011',\n",
       " '90012',\n",
       " '90013',\n",
       " '90014',\n",
       " '90015',\n",
       " '90016',\n",
       " '90017',\n",
       " '90018',\n",
       " '90019',\n",
       " '90020',\n",
       " '90021',\n",
       " '90023',\n",
       " '90024',\n",
       " '90025',\n",
       " '90026',\n",
       " '90027',\n",
       " '90028',\n",
       " '90029',\n",
       " '90031',\n",
       " '90032',\n",
       " '90033',\n",
       " '90034',\n",
       " '90035',\n",
       " '90036',\n",
       " '90037',\n",
       " '90038',\n",
       " '90039',\n",
       " '90040',\n",
       " '90041',\n",
       " '90042',\n",
       " '90043',\n",
       " '90044',\n",
       " '90045',\n",
       " '90046',\n",
       " '90047',\n",
       " '90048',\n",
       " '90049',\n",
       " '90052',\n",
       " '90053',\n",
       " '90057',\n",
       " '90058',\n",
       " '90059',\n",
       " '90061',\n",
       " '90062',\n",
       " '90063',\n",
       " '90064',\n",
       " '90065',\n",
       " '90066',\n",
       " '90067',\n",
       " '90068',\n",
       " '90069',\n",
       " '90071',\n",
       " '90073',\n",
       " '90074',\n",
       " '90077',\n",
       " '90079',\n",
       " '90086',\n",
       " '90089',\n",
       " '90094',\n",
       " '90095',\n",
       " '90096',\n",
       " '90201',\n",
       " '90202',\n",
       " '90210',\n",
       " '90211',\n",
       " '90212',\n",
       " '90227',\n",
       " '90230',\n",
       " '90232',\n",
       " '90245',\n",
       " '90247',\n",
       " '90248',\n",
       " '90250',\n",
       " '90263',\n",
       " '90265',\n",
       " '90272',\n",
       " '90278',\n",
       " '90290',\n",
       " '90291',\n",
       " '90292',\n",
       " '90293',\n",
       " '90296',\n",
       " '90301',\n",
       " '90302',\n",
       " '90304',\n",
       " '90305',\n",
       " '90402',\n",
       " '90403',\n",
       " '90404',\n",
       " '90405',\n",
       " '90501',\n",
       " '90502',\n",
       " '90503',\n",
       " '90504',\n",
       " '90505',\n",
       " '90650',\n",
       " '90660',\n",
       " '90706',\n",
       " '90710',\n",
       " '90712',\n",
       " '90717',\n",
       " '90731',\n",
       " '90732',\n",
       " '90733',\n",
       " '90744',\n",
       " '90745',\n",
       " '90810',\n",
       " '90831',\n",
       " '90851',\n",
       " '91030',\n",
       " '91040',\n",
       " '91042',\n",
       " '91205',\n",
       " '91206',\n",
       " '91214',\n",
       " '91303',\n",
       " '91304',\n",
       " '91306',\n",
       " '91307',\n",
       " '91311',\n",
       " '91312',\n",
       " '91316',\n",
       " '91324',\n",
       " '91325',\n",
       " '91326',\n",
       " '91328',\n",
       " '91330',\n",
       " '91331',\n",
       " '91335',\n",
       " '91340',\n",
       " '91342',\n",
       " '91343',\n",
       " '91344',\n",
       " '91345',\n",
       " '91352',\n",
       " '91355',\n",
       " '91356',\n",
       " '91364',\n",
       " '91365',\n",
       " '91367',\n",
       " '91371',\n",
       " '91401',\n",
       " '91402',\n",
       " '91403',\n",
       " '91405',\n",
       " '91406',\n",
       " '91411',\n",
       " '91423',\n",
       " '91436',\n",
       " '91504',\n",
       " '91505',\n",
       " '91515',\n",
       " '91522',\n",
       " '91601',\n",
       " '91602',\n",
       " '91604',\n",
       " '91605',\n",
       " '91606',\n",
       " '91607',\n",
       " '91608',\n",
       " '91702',\n",
       " '91722',\n",
       " '91723',\n",
       " '91775',\n",
       " '91790',\n",
       " '91791',\n",
       " '91801',\n",
       " '91803',\n",
       " '93543',\n",
       " '93550',\n",
       " '93552'}"
      ]
     },
     "execution_count": 10,
     "metadata": {},
     "output_type": "execute_result"
    }
   ],
   "source": [
    "set(list(ID_zip.values()))"
   ]
  },
  {
   "cell_type": "code",
   "execution_count": null,
   "id": "0ed8ec02",
   "metadata": {},
   "outputs": [],
   "source": []
  }
 ],
 "metadata": {
  "kernelspec": {
   "display_name": "Python 3 (ipykernel)",
   "language": "python",
   "name": "python3"
  },
  "language_info": {
   "codemirror_mode": {
    "name": "ipython",
    "version": 3
   },
   "file_extension": ".py",
   "mimetype": "text/x-python",
   "name": "python",
   "nbconvert_exporter": "python",
   "pygments_lexer": "ipython3",
   "version": "3.9.13"
  },
  "varInspector": {
   "cols": {
    "lenName": 16,
    "lenType": 16,
    "lenVar": 40
   },
   "kernels_config": {
    "python": {
     "delete_cmd_postfix": "",
     "delete_cmd_prefix": "del ",
     "library": "var_list.py",
     "varRefreshCmd": "print(var_dic_list())"
    },
    "r": {
     "delete_cmd_postfix": ") ",
     "delete_cmd_prefix": "rm(",
     "library": "var_list.r",
     "varRefreshCmd": "cat(var_dic_list()) "
    }
   },
   "types_to_exclude": [
    "module",
    "function",
    "builtin_function_or_method",
    "instance",
    "_Feature"
   ],
   "window_display": false
  }
 },
 "nbformat": 4,
 "nbformat_minor": 5
}
